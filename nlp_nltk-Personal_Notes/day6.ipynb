{
 "cells": [
  {
   "cell_type": "markdown",
   "metadata": {},
   "source": [
    "# 学习分类文本\n",
    "\n",
    "模式识别是自然语言处理的一个核心部分。以-ed 结尾的词往往是过去时态动词（第 5\n",
    "章）。频繁使用 will 是新闻文本的暗示（第 3 章）。这些可观察到的模式——词的结构和词\n",
    "频——恰好与特定方面的含义关联，如：时态和主题。但我们怎么知道从哪里开始寻找，形\n",
    "式的哪一方面关联含义的哪一方面？\n",
    "本章的目标是要回答下列问题：\n",
    "1. 我们怎样才能识别语言数据中能明显用于对其分类的特征？\n",
    "2. 我们怎样才能构建语言模型，用于自动执行语言处理任务？\n",
    "3. 从这些模型中我们可以学到哪些关于语言的知识？\n",
    "一路上，我们将研究一些重要的机器学习技术，包括决策树、朴素贝叶斯分类器和最大\n",
    "熵分类。我们会掩盖这些技术的数学和统计的基础，集中关注如何以及何时使用它们（更多\n",
    "的技术背景知识见 6.9 节）。在看这些方法之前，我们首先需要知道这个主题的范围十分广\n"
   ]
  },
  {
   "cell_type": "markdown",
   "metadata": {},
   "source": [
    "## 选取特征"
   ]
  },
  {
   "cell_type": "markdown",
   "metadata": {},
   "source": [
    "特征提取器返回字典，这个字典被称为特征集。然后利用\n",
    "\n",
    "nltk自带的朴素贝叶斯分类器 NaiveBayesClassifier 生成分类器。并且可以用nltk.classify.accuracy(分类器,测试集) 测试准确度"
   ]
  },
  {
   "cell_type": "code",
   "execution_count": 53,
   "metadata": {},
   "outputs": [
    {
     "name": "stdout",
     "output_type": "stream",
     "text": [
      "('Neo is a', 'male')\n",
      "0.752\n",
      "Most Informative Features\n",
      "             last_letter = u'a'           female : male   =     35.8 : 1.0\n",
      "             last_letter = u'k'             male : female =     30.7 : 1.0\n",
      "             last_letter = u'f'             male : female =     16.6 : 1.0\n",
      "             last_letter = u'p'             male : female =     12.5 : 1.0\n",
      "             last_letter = u'd'             male : female =     10.0 : 1.0\n"
     ]
    }
   ],
   "source": [
    "import nltk\n",
    "from nltk.corpus import names\n",
    "import random\n",
    "\n",
    "def gender_features(word): #特征提取器\n",
    "    return {'last_letter':word[-1]} #特征集就是最后一个字母\n",
    "\n",
    "names = [(name,'male') for name in names.words('male.txt')]+[(name,'female') for name in names.words('female.txt')]\n",
    "random.shuffle(names)#将序列打乱\n",
    "\n",
    "features = [(gender_features(n),g) for (n,g) in names]#返回对应的特征和标签\n",
    "\n",
    "train,test = features[500:],features[:500] #训练集和测试集\n",
    "classifier = nltk.NaiveBayesClassifier.train(train) #生成分类器\n",
    "\n",
    "print('Neo is a',classifier.classify(gender_features('Neo')))#分类\n",
    "\n",
    "print(nltk.classify.accuracy(classifier,test)) #测试准确度\n",
    "\n",
    "classifier.show_most_informative_features(5)#得到似然比，检测对于哪些特征有用"
   ]
  },
  {
   "cell_type": "code",
   "execution_count": 54,
   "metadata": {},
   "outputs": [],
   "source": [
    "# 当我们训练大的语料库的时候，链表会占用很大内存。这时候nltk提供了：apply_features，会生成链表，但是不会在内存中存储所有对象。\n",
    "# no ： features = [(gender_features(n),g) for (n,g) in names]\n",
    "from nltk.classify import apply_features\n",
    "train_set = apply_features(gender_features,names[500:])\n",
    "test_set = apply_features(gender_features,names[:500])"
   ]
  },
  {
   "cell_type": "markdown",
   "metadata": {},
   "source": [
    "过拟合：当特征过多\n",
    "\n",
    "当特征过多的时候（特征集的键值过多），会对一般化的新例子不起作用，称为过拟合。如果抉择特征集的大小，需要不停的测试，找到最吻合的特征集。\n",
    "错误分析\n",
    "\n",
    "为了使特征提取器准确度更高，一般将源数据分为两大部分，三小部分：\n",
    "\n",
    "    开发集：\n",
    "        训练集：负责开发\n",
    "        开发测试集：负责错误分析\n",
    "    测试集：负责最终评估"
   ]
  },
  {
   "cell_type": "code",
   "execution_count": 55,
   "metadata": {
    "scrolled": true
   },
   "outputs": [
    {
     "data": {
      "text/plain": [
       "0.752"
      ]
     },
     "execution_count": 55,
     "metadata": {},
     "output_type": "execute_result"
    }
   ],
   "source": [
    "# 特征提取器，过拟合提取特征。这里请对比gender_features2与上一版本的区别\n",
    "def gender_features2(name):\n",
    "    features = {}\n",
    "    features[\"firstletter\"] = name[0].lower()\n",
    "    features[\"lastletter\"] = name[-1].lower()\n",
    "    for letter in 'abcdefghijklmnopqrstuvwxyz':\n",
    "        features[\"count(%s)\" % letter] = name.lower().count(letter)\n",
    "        features[\"has(%s)\" % letter] = (letter in name.lower())\n",
    "    return features\n",
    "\n",
    "featuresets = [(gender_features2(n), g) for (n,g) in names]\n",
    "# list(featuresets)\n",
    "train_set, test_set = featuresets[500:], featuresets[:500]\n",
    "classifier = nltk.NaiveBayesClassifier.train(train_set)\n",
    "# 对比上一版本的预测结果，基本可以发现精确度下降了b\n",
    "nltk.classify.accuracy(classifier, test_set)"
   ]
  },
  {
   "cell_type": "code",
   "execution_count": 56,
   "metadata": {},
   "outputs": [
    {
     "name": "stdout",
     "output_type": "stream",
     "text": [
      "Most Informative Features\n",
      "              lastletter = u'a'           female : male   =     35.8 : 1.0\n",
      "              lastletter = u'k'             male : female =     30.7 : 1.0\n",
      "              lastletter = u'f'             male : female =     16.6 : 1.0\n",
      "              lastletter = u'p'             male : female =     12.5 : 1.0\n",
      "              lastletter = u'd'             male : female =     10.0 : 1.0\n"
     ]
    }
   ],
   "source": [
    "classifier.show_most_informative_features(5)"
   ]
  },
  {
   "cell_type": "code",
   "execution_count": 57,
   "metadata": {
    "scrolled": true
   },
   "outputs": [
    {
     "data": {
      "text/plain": [
       "{'count(a)': 0,\n",
       " 'count(b)': 0,\n",
       " 'count(c)': 0,\n",
       " 'count(d)': 0,\n",
       " 'count(e)': 0,\n",
       " 'count(f)': 0,\n",
       " 'count(g)': 0,\n",
       " 'count(h)': 1,\n",
       " 'count(i)': 0,\n",
       " 'count(j)': 1,\n",
       " 'count(k)': 0,\n",
       " 'count(l)': 0,\n",
       " 'count(m)': 0,\n",
       " 'count(n)': 1,\n",
       " 'count(o)': 1,\n",
       " 'count(p)': 0,\n",
       " 'count(q)': 0,\n",
       " 'count(r)': 0,\n",
       " 'count(s)': 0,\n",
       " 'count(t)': 0,\n",
       " 'count(u)': 0,\n",
       " 'count(v)': 0,\n",
       " 'count(w)': 0,\n",
       " 'count(x)': 0,\n",
       " 'count(y)': 0,\n",
       " 'count(z)': 0,\n",
       " 'firstletter': 'j',\n",
       " 'has(a)': False,\n",
       " 'has(b)': False,\n",
       " 'has(c)': False,\n",
       " 'has(d)': False,\n",
       " 'has(e)': False,\n",
       " 'has(f)': False,\n",
       " 'has(g)': False,\n",
       " 'has(h)': True,\n",
       " 'has(i)': False,\n",
       " 'has(j)': True,\n",
       " 'has(k)': False,\n",
       " 'has(l)': False,\n",
       " 'has(m)': False,\n",
       " 'has(n)': True,\n",
       " 'has(o)': True,\n",
       " 'has(p)': False,\n",
       " 'has(q)': False,\n",
       " 'has(r)': False,\n",
       " 'has(s)': False,\n",
       " 'has(t)': False,\n",
       " 'has(u)': False,\n",
       " 'has(v)': False,\n",
       " 'has(w)': False,\n",
       " 'has(x)': False,\n",
       " 'has(y)': False,\n",
       " 'has(z)': False,\n",
       " 'lastletter': 'n'}"
      ]
     },
     "execution_count": 57,
     "metadata": {},
     "output_type": "execute_result"
    }
   ],
   "source": [
    "gender_features2('John')"
   ]
  },
  {
   "cell_type": "markdown",
   "metadata": {},
   "source": [
    "错误分析\n",
    "\n",
    "为了使特征提取器准确度更高，一般将源数据分为两大部分，三小部分：\n",
    "\n",
    "    开发集：\n",
    "        训练集：负责开发\n",
    "        开发测试集：负责错误分析\n",
    "    测试集：负责最终评估"
   ]
  },
  {
   "cell_type": "code",
   "execution_count": 58,
   "metadata": {},
   "outputs": [],
   "source": [
    "train_names = names[1500:]\n",
    "devtest_names = names[500:1500]\n",
    "test_names = names[:500]\n",
    "\n",
    "train_set = [(gender_features(n),g) for (n,g) in train_names]\n",
    "devtest_set = [(gender_features(n),g) for (n,g) in devtest_names]\n",
    "test_set = [(gender_features(n),g) for (n,g) in test_names]"
   ]
  },
  {
   "cell_type": "code",
   "execution_count": 59,
   "metadata": {},
   "outputs": [
    {
     "name": "stdout",
     "output_type": "stream",
     "text": [
      "0.747\n"
     ]
    }
   ],
   "source": [
    "classifier = nltk.NaiveBayesClassifier.train(train_set)\n",
    "print(nltk.classify.accuracy(classifier,devtest_set))"
   ]
  },
  {
   "cell_type": "code",
   "execution_count": 60,
   "metadata": {
    "collapsed": true
   },
   "outputs": [],
   "source": [
    "######################记录报错的案例###############################\n",
    "errors = []\n",
    "for (name,tag) in devtest_names:\n",
    "    guess = classifier.classify(gender_features(name))\n",
    "    if guess!=tag:\n",
    "        errors.append((tag,guess,name))\n",
    "##################################################################"
   ]
  },
  {
   "cell_type": "code",
   "execution_count": 61,
   "metadata": {},
   "outputs": [
    {
     "name": "stdout",
     "output_type": "stream",
     "text": [
      "correct=female   guess=male     name=Addis                         \n",
      "correct=female   guess=male     name=Adriaens                      \n",
      "correct=female   guess=male     name=Agnes                         \n",
      "correct=female   guess=male     name=Allis                         \n",
      "correct=female   guess=male     name=Allyn                         \n",
      "correct=female   guess=male     name=Allys                         \n",
      "correct=female   guess=male     name=Anett                         \n",
      "correct=female   guess=male     name=Beret                         \n",
      "correct=female   guess=male     name=Bette-Ann                     \n",
      "correct=female   guess=male     name=Bidget                        \n",
      "correct=female   guess=male     name=Bliss                         \n",
      "correct=female   guess=male     name=Brigit                        \n",
      "correct=female   guess=male     name=Caro                          \n",
      "correct=female   guess=male     name=Carolynn                      \n",
      "correct=female   guess=male     name=Cathleen                      \n",
      "correct=female   guess=male     name=Cathryn                       \n",
      "correct=female   guess=male     name=Charin                        \n",
      "correct=female   guess=male     name=Cherilyn                      \n",
      "correct=female   guess=male     name=Cherlyn                       \n",
      "correct=female   guess=male     name=Christean                     \n",
      "correct=female   guess=male     name=Cris                          \n",
      "correct=female   guess=male     name=Cyb                           \n",
      "correct=female   guess=male     name=Danit                         \n",
      "correct=female   guess=male     name=Darb                          \n",
      "correct=female   guess=male     name=Delores                       \n",
      "correct=female   guess=male     name=Demeter                       \n",
      "correct=female   guess=male     name=Devon                         \n",
      "correct=female   guess=male     name=Elizabet                      \n",
      "correct=female   guess=male     name=Ellyn                         \n",
      "correct=female   guess=male     name=Emlyn                         \n",
      "correct=female   guess=male     name=Ethelin                       \n",
      "correct=female   guess=male     name=Gunvor                        \n",
      "correct=female   guess=male     name=Hannis                        \n",
      "correct=female   guess=male     name=Hester                        \n",
      "correct=female   guess=male     name=Imogen                        \n",
      "correct=female   guess=male     name=Ingaborg                      \n",
      "correct=female   guess=male     name=Jackquelin                    \n",
      "correct=female   guess=male     name=Janean                        \n",
      "correct=female   guess=male     name=Jean                          \n",
      "correct=female   guess=male     name=Joann                         \n",
      "correct=female   guess=male     name=Joleen                        \n",
      "correct=female   guess=male     name=Jolyn                         \n",
      "correct=female   guess=male     name=Jolynn                        \n",
      "correct=female   guess=male     name=Joyann                        \n",
      "correct=female   guess=male     name=Kellen                        \n",
      "correct=female   guess=male     name=Keren                         \n",
      "correct=female   guess=male     name=Kip                           \n",
      "correct=female   guess=male     name=Lark                          \n",
      "correct=female   guess=male     name=LeeAnn                        \n",
      "correct=female   guess=male     name=Linet                         \n",
      "correct=female   guess=male     name=Lorilyn                       \n",
      "correct=female   guess=male     name=Lulu                          \n",
      "correct=female   guess=male     name=Lurleen                       \n",
      "correct=female   guess=male     name=Lust                          \n",
      "correct=female   guess=male     name=Madlin                        \n",
      "correct=female   guess=male     name=Manon                         \n",
      "correct=female   guess=male     name=Margaret                      \n",
      "correct=female   guess=male     name=Margret                       \n",
      "correct=female   guess=male     name=Marieann                      \n",
      "correct=female   guess=male     name=Mariellen                     \n",
      "correct=female   guess=male     name=Marillin                      \n",
      "correct=female   guess=male     name=Marris                        \n",
      "correct=female   guess=male     name=Meagan                        \n",
      "correct=female   guess=male     name=Mercedes                      \n",
      "correct=female   guess=male     name=Morgen                        \n",
      "correct=female   guess=male     name=Muffin                        \n",
      "correct=female   guess=male     name=Robbyn                        \n",
      "correct=female   guess=male     name=Rosamond                      \n",
      "correct=female   guess=male     name=Saraann                       \n",
      "correct=female   guess=male     name=Sharleen                      \n",
      "correct=female   guess=male     name=Sheilakathryn                 \n",
      "correct=female   guess=male     name=Suzann                        \n",
      "correct=female   guess=male     name=Tamar                         \n",
      "correct=female   guess=male     name=Tamiko                        \n",
      "correct=female   guess=male     name=Theo                          \n",
      "correct=female   guess=male     name=Thomasin                      \n",
      "correct=female   guess=male     name=Venus                         \n",
      "correct=female   guess=male     name=Veradis                       \n",
      "correct=female   guess=male     name=Yoko                          \n",
      "correct=male     guess=female   name=Adlai                         \n",
      "correct=male     guess=female   name=Aguste                        \n",
      "correct=male     guess=female   name=Al                            \n",
      "correct=male     guess=female   name=Anatol                        \n",
      "correct=male     guess=female   name=Angie                         \n",
      "correct=male     guess=female   name=Ansel                         \n",
      "correct=male     guess=female   name=Arel                          \n",
      "correct=male     guess=female   name=Artie                         \n",
      "correct=male     guess=female   name=Arvy                          \n",
      "correct=male     guess=female   name=Ashby                         \n",
      "correct=male     guess=female   name=Augie                         \n",
      "correct=male     guess=female   name=Axel                          \n",
      "correct=male     guess=female   name=Bailey                        \n",
      "correct=male     guess=female   name=Barny                         \n",
      "correct=male     guess=female   name=Barrie                        \n",
      "correct=male     guess=female   name=Barry                         \n",
      "correct=male     guess=female   name=Bealle                        \n",
      "correct=male     guess=female   name=Benjy                         \n",
      "correct=male     guess=female   name=Berke                         \n",
      "correct=male     guess=female   name=Bertie                        \n",
      "correct=male     guess=female   name=Billie                        \n",
      "correct=male     guess=female   name=Binky                         \n",
      "correct=male     guess=female   name=Bobbie                        \n",
      "correct=male     guess=female   name=Boniface                      \n",
      "correct=male     guess=female   name=Brady                         \n",
      "correct=male     guess=female   name=Brandy                        \n",
      "correct=male     guess=female   name=Brody                         \n",
      "correct=male     guess=female   name=Brooke                        \n",
      "correct=male     guess=female   name=Buddy                         \n",
      "correct=male     guess=female   name=Case                          \n",
      "correct=male     guess=female   name=Chance                        \n",
      "correct=male     guess=female   name=Charlie                       \n",
      "correct=male     guess=female   name=Clancy                        \n",
      "correct=male     guess=female   name=Cobbie                        \n",
      "correct=male     guess=female   name=Conroy                        \n",
      "correct=male     guess=female   name=Conway                        \n",
      "correct=male     guess=female   name=Corby                         \n",
      "correct=male     guess=female   name=Cyrill                        \n",
      "correct=male     guess=female   name=Dabney                        \n",
      "correct=male     guess=female   name=Davy                          \n",
      "correct=male     guess=female   name=Demetre                       \n",
      "correct=male     guess=female   name=Drake                         \n",
      "correct=male     guess=female   name=Duke                          \n",
      "correct=male     guess=female   name=Elroy                         \n",
      "correct=male     guess=female   name=Ely                           \n",
      "correct=male     guess=female   name=Emanuel                       \n",
      "correct=male     guess=female   name=Emery                         \n",
      "correct=male     guess=female   name=Emmery                        \n",
      "correct=male     guess=female   name=Fairfax                       \n",
      "correct=male     guess=female   name=Gail                          \n",
      "correct=male     guess=female   name=Gene                          \n",
      "correct=male     guess=female   name=Geoffry                       \n",
      "correct=male     guess=female   name=George                        \n",
      "correct=male     guess=female   name=Geri                          \n",
      "correct=male     guess=female   name=Germaine                      \n",
      "correct=male     guess=female   name=Gerry                         \n",
      "correct=male     guess=female   name=Giffie                        \n",
      "correct=male     guess=female   name=Giorgi                        \n",
      "correct=male     guess=female   name=Giovanne                      \n",
      "correct=male     guess=female   name=Gordie                        \n",
      "correct=male     guess=female   name=Greggory                      \n",
      "correct=male     guess=female   name=Gregory                       \n",
      "correct=male     guess=female   name=Guthrie                       \n",
      "correct=male     guess=female   name=Hamel                         \n",
      "correct=male     guess=female   name=Harwell                       \n",
      "correct=male     guess=female   name=Helmuth                       \n",
      "correct=male     guess=female   name=Hermy                         \n",
      "correct=male     guess=female   name=Herschel                      \n",
      "correct=male     guess=female   name=Hillel                        \n",
      "correct=male     guess=female   name=Hugh                          \n",
      "correct=male     guess=female   name=Humphrey                      \n",
      "correct=male     guess=female   name=Isidore                       \n",
      "correct=male     guess=female   name=Ismail                        \n",
      "correct=male     guess=female   name=Izzy                          \n",
      "correct=male     guess=female   name=Jeffrey                       \n",
      "correct=male     guess=female   name=Jefry                         \n",
      "correct=male     guess=female   name=Jeremy                        \n",
      "correct=male     guess=female   name=Jerry                         \n",
      "correct=male     guess=female   name=Jessee                        \n",
      "correct=male     guess=female   name=Jordy                         \n",
      "correct=male     guess=female   name=Josh                          \n",
      "correct=male     guess=female   name=Joshuah                       \n",
      "correct=male     guess=female   name=Julie                         \n",
      "correct=male     guess=female   name=Keith                         \n",
      "correct=male     guess=female   name=Kelley                        \n",
      "correct=male     guess=female   name=Kermie                        \n",
      "correct=male     guess=female   name=Kerry                         \n",
      "correct=male     guess=female   name=Lemmy                         \n",
      "correct=male     guess=female   name=Lesley                        \n",
      "correct=male     guess=female   name=Lonny                         \n",
      "correct=male     guess=female   name=Lorne                         \n",
      "correct=male     guess=female   name=Lorrie                        \n",
      "correct=male     guess=female   name=Lowell                        \n",
      "correct=male     guess=female   name=Luce                          \n",
      "correct=male     guess=female   name=Luigi                         \n",
      "correct=male     guess=female   name=Lyle                          \n",
      "correct=male     guess=female   name=Mackenzie                     \n",
      "correct=male     guess=female   name=Marchall                      \n",
      "correct=male     guess=female   name=Marsh                         \n",
      "correct=male     guess=female   name=Maurise                       \n",
      "correct=male     guess=female   name=Mendie                        \n",
      "correct=male     guess=female   name=Merill                        \n",
      "correct=male     guess=female   name=Merry                         \n",
      "correct=male     guess=female   name=Micah                         \n",
      "correct=male     guess=female   name=Mikel                         \n",
      "correct=male     guess=female   name=Montgomery                    \n",
      "correct=male     guess=female   name=Morlee                        \n",
      "correct=male     guess=female   name=Morty                         \n",
      "correct=male     guess=female   name=Murray                        \n",
      "correct=male     guess=female   name=Mustafa                       \n",
      "correct=male     guess=female   name=Neel                          \n",
      "correct=male     guess=female   name=Nevile                        \n",
      "correct=male     guess=female   name=Neville                       \n",
      "correct=male     guess=female   name=Nicky                         \n",
      "correct=male     guess=female   name=Noach                         \n",
      "correct=male     guess=female   name=Oswell                        \n",
      "correct=male     guess=female   name=Paige                         \n",
      "correct=male     guess=female   name=Parry                         \n",
      "correct=male     guess=female   name=Patty                         \n",
      "correct=male     guess=female   name=Pepe                          \n",
      "correct=male     guess=female   name=Pierce                        \n",
      "correct=male     guess=female   name=Piggy                         \n",
      "correct=male     guess=female   name=Quincy                        \n",
      "correct=male     guess=female   name=Rahul                         \n",
      "correct=male     guess=female   name=Raleigh                       \n",
      "correct=male     guess=female   name=Ramsay                        \n",
      "correct=male     guess=female   name=Randolph                      \n",
      "correct=male     guess=female   name=Ransell                       \n",
      "correct=male     guess=female   name=Raoul                         \n",
      "correct=male     guess=female   name=Ravi                          \n",
      "correct=male     guess=female   name=Ray                           \n",
      "correct=male     guess=female   name=Rex                           \n",
      "correct=male     guess=female   name=Ritchie                       \n",
      "correct=male     guess=female   name=Roarke                        \n",
      "correct=male     guess=female   name=Robbie                        \n",
      "correct=male     guess=female   name=Ronnie                        \n",
      "correct=male     guess=female   name=Roscoe                        \n",
      "correct=male     guess=female   name=Roth                          \n",
      "correct=male     guess=female   name=Rourke                        \n",
      "correct=male     guess=female   name=Royal                         \n",
      "correct=male     guess=female   name=Royce                         \n",
      "correct=male     guess=female   name=Rudolph                       \n",
      "correct=male     guess=female   name=Sansone                       \n",
      "correct=male     guess=female   name=Sax                           \n",
      "correct=male     guess=female   name=Scottie                       \n",
      "correct=male     guess=female   name=Sheffie                       \n",
      "correct=male     guess=female   name=Siffre                        \n",
      "correct=male     guess=female   name=Skye                          \n",
      "correct=male     guess=female   name=Spence                        \n",
      "correct=male     guess=female   name=Stanleigh                     \n",
      "correct=male     guess=female   name=Stinky                        \n",
      "correct=male     guess=female   name=Tabby                         \n",
      "correct=male     guess=female   name=Tammy                         \n",
      "correct=male     guess=female   name=Timmy                         \n",
      "correct=male     guess=female   name=Tobiah                        \n",
      "correct=male     guess=female   name=Tommie                        \n",
      "correct=male     guess=female   name=Trey                          \n",
      "correct=male     guess=female   name=Troy                          \n",
      "correct=male     guess=female   name=Tuckie                        \n",
      "correct=male     guess=female   name=Tymothy                       \n",
      "correct=male     guess=female   name=Tyrone                        \n",
      "correct=male     guess=female   name=Vachel                        \n",
      "correct=male     guess=female   name=Vale                          \n",
      "correct=male     guess=female   name=Valentine                     \n",
      "correct=male     guess=female   name=Vijay                         \n",
      "correct=male     guess=female   name=Vince                         \n",
      "correct=male     guess=female   name=Wallie                        \n",
      "correct=male     guess=female   name=Wally                         \n",
      "correct=male     guess=female   name=Walsh                         \n",
      "correct=male     guess=female   name=Wolfy                         \n",
      "correct=male     guess=female   name=Woody                         \n",
      "correct=male     guess=female   name=Yehudi                        \n",
      "correct=male     guess=female   name=Zachary                       \n",
      "correct=male     guess=female   name=Zolly                         \n"
     ]
    }
   ],
   "source": [
    "for (tag, guess, name) in sorted(errors): # doctest: +ELLIPSIS +NORMALIZE_WHITESPACE\n",
    "    print 'correct=%-8s guess=%-8s name=%-30s'%(tag, guess, name)"
   ]
  },
  {
   "cell_type": "code",
   "execution_count": 62,
   "metadata": {
    "collapsed": true
   },
   "outputs": [],
   "source": [
    "'''\n",
    "浏览这个错误列表，它明确指出一些多个字母的后缀可以指示名字性别。\n",
    "例如，yn结尾的名字显示以女性为主，尽管事实上，n结尾的名字往往是男性；以ch结尾的名字通常是男性，\n",
    "尽管以h结尾的名字倾向于是女性。因此，调整我们的特征提取器包括两个字母后缀的特征：\n",
    "'''\n",
    "def gender_features(word):\n",
    "    return {'suffix1': word[-1:],\n",
    "            'suffix2': word[-2:]}"
   ]
  },
  {
   "cell_type": "code",
   "execution_count": 63,
   "metadata": {},
   "outputs": [
    {
     "name": "stdout",
     "output_type": "stream",
     "text": [
      "0.797\n"
     ]
    }
   ],
   "source": [
    "train_set = [(gender_features(n), gender) for (n, gender) in train_names]\n",
    "devtest_set = [(gender_features(n), gender) for (n, gender) in devtest_names]\n",
    "classifier = nltk.NaiveBayesClassifier.train(train_set)\n",
    "print(nltk.classify.accuracy(classifier, devtest_set))"
   ]
  },
  {
   "cell_type": "markdown",
   "metadata": {},
   "source": [
    "## 文档分类\n",
    "\n",
    "这里的分类标签选成词汇，通过对文本前N个词的观察，得到预测标签。"
   ]
  },
  {
   "cell_type": "code",
   "execution_count": 64,
   "metadata": {
    "collapsed": true
   },
   "outputs": [],
   "source": [
    ">>> from nltk.corpus import movie_reviews\n",
    ">>> documents = [(list(movie_reviews.words(fileid)), category)\n",
    "...              for category in movie_reviews.categories()\n",
    "...              for fileid in movie_reviews.fileids(category)]\n",
    ">>> random.shuffle(documents)"
   ]
  },
  {
   "cell_type": "code",
   "execution_count": 78,
   "metadata": {
    "collapsed": true
   },
   "outputs": [],
   "source": [
    "all_words = nltk.FreqDist(w.lower() for w in movie_reviews.words())\n",
    "word_features = list(all_words)[:2000]#freq word features\n",
    "'''\n",
    "接下来，我们为文档定义一个特征提取器，这样分类器就会知道哪些方面的数据应注意\\）。\n",
    "对于文档主题识别，我们可以为每个词定义一个特性表示该文档是否包含这个词。\n",
    "为了限制分类器需要处理的特征的数目，\n",
    "我们一开始构建一个整个语料库中前2000个最频繁词的列表[1]。\n",
    "然后，定义一个特征提取器，简单地检查这些词是否在一个给定的文档中。\n",
    "\n",
    "'''\n",
    "def document_features(document):\n",
    "    document_words = set(document)\n",
    "    features = {}\n",
    "    for word in word_features:#document word in features\n",
    "        features['contains({})'.format(word)] = (word in document_words)\n",
    "    return features"
   ]
  },
  {
   "cell_type": "code",
   "execution_count": 81,
   "metadata": {},
   "outputs": [
    {
     "name": "stdout",
     "output_type": "stream",
     "text": [
      "{'contains(corporate)': False, 'contains(barred)': False, 'contains(batmans)': False, 'contains(menacing)': False, 'contains(rags)': False, 'contains(compton)': False, 'contains(inquires)': False, 'contains(nosebleeding)': False, 'contains(playhouse)': False, 'contains(peculiarities)': False, 'contains(guarded)': False, 'contains(kilgore)': False, 'contains(tarnish)': False, 'contains(sand)': False, 'contains(busting)': False, 'contains(wedge)': False, 'contains(smelling)': False, 'contains(tulip)': False, 'contains(singled)': False, 'contains(wahlberg)': False, 'contains(needed)': False, 'contains(lydia)': False, 'contains(rick)': False, 'contains(cambodia)': False, 'contains(grandma)': False, 'contains(jovivich)': False, 'contains(pinon)': False, 'contains(fix)': False, 'contains(marla)': False, 'contains(resources)': False, 'contains(nomi)': False, 'contains(irs)': False, 'contains(mason)': False, 'contains(vicariously)': False, 'contains(ingrained)': False, 'contains(skepticism)': False, 'contains(tested)': False, 'contains(spat)': False, 'contains(nfeatured)': False, 'contains(accomplishes)': False, 'contains(sierra)': False, 'contains(lunges)': False, 'contains(telefixated)': False, 'contains(wednesday)': False, 'contains(spiders)': False, 'contains(waft)': False, 'contains(jim)': False, 'contains(cinematic)': False, 'contains(pseudonymous)': False, 'contains(troubles)': False, 'contains(dimension)': False, 'contains(cassette)': False, 'contains(corsucant)': False, 'contains(absolute)': False, 'contains(harmonious)': False, 'contains(saying)': False, 'contains(misdemeanors)': False, 'contains(prodigious)': False, 'contains(reclining)': False, 'contains(loudness)': False, 'contains(lombard)': False, 'contains(sickening)': False, 'contains(cooking)': False, 'contains(oprah)': False, 'contains(platt)': False, 'contains(rolf)': False, 'contains(episodes)': False, 'contains(derivative)': False, 'contains(receipt)': False, 'contains(impactful)': False, 'contains(fonzie)': False, 'contains(spilling)': False, 'contains(chyron)': False, 'contains(dragonflies)': False, 'contains(ugliness)': False, 'contains(sauce)': False, 'contains(crossroads)': False, 'contains(paired)': False, 'contains(tomei)': False, 'contains(hounds)': False, 'contains(marshmallows)': False, 'contains(lick)': False, 'contains(hass)': False, 'contains(surges)': False, 'contains(watched)': False, 'contains(ivey)': False, 'contains(nuez)': False, 'contains(mentors)': False, 'contains(tricky)': False, 'contains(surveying)': False, 'contains(ditching)': False, 'contains(haystack)': False, 'contains(warriors)': False, 'contains(purged)': False, 'contains(rehabilitation)': False, 'contains(petitions)': False, 'contains(bogs)': False, 'contains(absense)': False, 'contains(courtesans)': False, 'contains(followed)': False, 'contains(har)': False, 'contains(anthesis)': False, 'contains(grotesqe)': False, 'contains(_i_know_what_you_did_last_summer_)': False, 'contains(survey)': False, 'contains(bartok)': False, 'contains(thivisol)': False, 'contains(exponential)': False, 'contains(birdie)': False, 'contains(cincinnati)': False, 'contains(unthrilling)': False, 'contains(balsan)': False, 'contains(bumming)': False, 'contains(celebrated)': False, 'contains(renovated)': False, 'contains(crowd)': False, 'contains(shows)': False, 'contains(lana)': False, 'contains(haskin)': False, 'contains(despite)': False, 'contains(scharzenegger)': False, 'contains(undergone)': False, 'contains(aissa)': False, 'contains(leit)': False, 'contains(mouth)': False, 'contains(demeaning)': False, 'contains(drilling)': False, 'contains(unsworth)': False, 'contains(bannister)': False, 'contains(wiseguy)': False, 'contains(lackies)': False, 'contains(norville)': False, 'contains(dampens)': False, 'contains(satisfactory)': False, 'contains(abuser)': False, 'contains(had)': False, 'contains(nature)': False, 'contains(awake)': False, 'contains(wiseguys)': False, 'contains(cerebrally)': False, 'contains(ballisitic)': False, 'contains(trauma)': False, 'contains(geography)': False, 'contains(genieveve)': False, 'contains(leeanne)': False, 'contains(cannibal)': False, 'contains(intoxicating)': False, 'contains(olds)': False, 'contains(tastefully)': False, 'contains(defy)': False, 'contains(drafted)': False, 'contains(strums)': False, 'contains(dilemnas)': False, 'contains(amoeba)': False, 'contains(assimilation)': False, 'contains(reprisal)': False, 'contains(janusz)': False, 'contains(leonardi)': False, 'contains(procures)': False, 'contains(canoeing)': False, 'contains(emergence)': False, 'contains(diving)': False, 'contains(aatish)': False, 'contains(masturbatory)': False, 'contains(peaceably)': False, 'contains(persistently)': False, 'contains(survival)': False, 'contains(portrays)': False, 'contains(ceasing)': False, 'contains(bubble)': False, 'contains(sonja)': False, 'contains(unarguably)': False, 'contains(unbuttoning)': False, 'contains(jessalyn)': False, 'contains(windmill)': False, 'contains(longs)': False, 'contains(baby)': False, 'contains(mute)': False, 'contains(sikh)': False, 'contains(nicely)': False, 'contains(burial)': False, 'contains(formed)': False, 'contains(locket)': False, 'contains(frizzy)': False, 'contains(darnell)': False, 'contains(outraging)': False, 'contains(politicos)': False, 'contains(2293)': False, 'contains(devoured)': False, 'contains(universality)': False, 'contains(didn)': False, 'contains(perpetrator)': False, 'contains(thats)': False, 'contains(dethroned)': False, 'contains(malintentioned)': False, 'contains(insubordinate)': False, 'contains(humpback)': False, 'contains(meditative)': False, 'contains(pimply)': False, 'contains(tyranny)': False, 'contains(loyalties)': False, 'contains(humbler)': False, 'contains(kindergartner)': False, 'contains(suitcases)': False, 'contains(grope)': False, 'contains(touts)': False, 'contains(advertisement)': False, 'contains(shirts)': False, 'contains(videodrome)': False, 'contains(eggar)': False, 'contains(portillo)': False, 'contains(macht)': False, 'contains(perishes)': False, 'contains(preference)': False, 'contains(pell)': False, 'contains(moniker)': False, 'contains(fakery)': False, 'contains(edouard)': False, 'contains(aughra)': False, 'contains(foregrounds)': False, 'contains(snobbish)': False, 'contains(printed)': False, 'contains(dispite)': False, 'contains(pulled)': False, 'contains(russ)': False, 'contains(admires)': False, 'contains(hurricaine)': False, 'contains(milked)': False, 'contains(master)': False, 'contains(spurting)': False, 'contains(oversimplified)': False, 'contains(overlord)': False, 'contains(goody)': False, 'contains(has)': True, 'contains(pringles)': False, 'contains(celebrates)': False, 'contains(domed)': False, 'contains(wrinkles)': False, 'contains(abandons)': False, 'contains(solaris)': False, 'contains(clumsiness)': False, 'contains(deductions)': False, 'contains(sugarplums)': False, 'contains(lombardo)': False, 'contains(humbled)': False, 'contains(beware)': False, 'contains(antichrist)': False, 'contains(cavity)': False, 'contains(anthropologists)': False, 'contains(typicalness)': False, 'contains(crowe)': False, 'contains(scramble)': False, 'contains(stoically)': False, 'contains(tanker)': False, 'contains(thanking)': False, 'contains(brunette)': False, 'contains(retells)': False, 'contains(rudnick)': False, 'contains(sidebars)': False, 'contains(interviewed)': False, 'contains(greenwald)': False, 'contains(brutally)': False, 'contains(misconstrued)': False, 'contains(piscapo)': False, 'contains(vocalized)': False, 'contains(negg)': False, 'contains(benigness)': False, 'contains(cigarettes)': False, 'contains(want)': False, 'contains(huge)': False, 'contains(mediocrity)': False, 'contains(opar)': False, 'contains(abortion)': False, 'contains(chap)': False, 'contains(paled)': False, 'contains(distraction)': False, 'contains(hypsy)': False, 'contains(elders)': False, 'contains(compass)': False, 'contains(circuitry)': False, 'contains(rebuilding)': False, 'contains(hat)': False, 'contains(marshall)': False, 'contains(professory)': False, 'contains(dismisses)': False, 'contains(oderkerk)': False, 'contains(bunker)': False, 'contains(spit)': False, 'contains(abject)': False, 'contains(s)': True, 'contains(underdone)': False, 'contains(starring)': False, 'contains(dared)': False, 'contains(antidote)': False, 'contains(igniting)': False, 'contains(touchy)': False, 'contains(doubts)': False, 'contains(erich)': False, 'contains(trails)': False, 'contains(socking)': False, 'contains(surfing)': False, 'contains(promotional)': False, 'contains(sponsorship)': False, 'contains(circumstances)': False, 'contains(zoe)': False, 'contains(process)': False, 'contains(sponsor)': False, 'contains(mortified)': False, 'contains(snickered)': False, 'contains(minah)': False, 'contains(soaked)': False, 'contains(entering)': False, 'contains(cheddar)': False, 'contains(soundbite)': False, 'contains(recombination)': False, 'contains(zigged)': False, 'contains(sublimated)': False, 'contains(niall)': False, 'contains(sixteen)': False, 'contains(harassing)': False, 'contains(loitered)': False, 'contains(dna)': False, 'contains(noblewoman)': False, 'contains(interogation)': False, 'contains(locusts)': False, 'contains(skirmish)': False, 'contains(unintentionally)': False, 'contains(bounce)': False, 'contains(rebounding)': False, 'contains(flipped)': False, 'contains(mori)': False, 'contains(cages)': False, 'contains(atlantis)': False, 'contains(sustaining)': False, 'contains(straighten)': False, 'contains(otto)': False, 'contains(flotsam)': False, 'contains(centuries)': False, 'contains(promiss)': False, 'contains(maude)': False, 'contains(hawkes)': False, 'contains(scott)': False, 'contains(edged)': False, 'contains(wrong)': True, 'contains(frenchmen)': False, 'contains(dilbert)': False, 'contains(indicative)': False, 'contains(bruckheimer)': False, 'contains(porpoise)': False, 'contains(uncharacteristically)': False, 'contains(ellen)': False, 'contains(stifle)': False, 'contains(stormare)': False, 'contains(wracked)': False, 'contains(encourage)': False, 'contains(wits)': False, 'contains(bios)': False, 'contains(fry)': False, 'contains(resonated)': False, 'contains(lyndon)': False, 'contains(stylings)': False, 'contains(rangers)': False, 'contains(marlo)': False, 'contains(stillness)': False, 'contains(arlington)': False, 'contains(scold)': False, 'contains(belt)': False, 'contains(mcferran)': False, 'contains(ching)': False, 'contains(stern)': False, 'contains(crackles)': False, 'contains(antwerp)': False, 'contains(remembrance)': False, 'contains(expressively)': False, 'contains(byline)': False, 'contains(admirer)': False, 'contains(squirt)': False, 'contains(saucy)': False, 'contains(clients)': False, 'contains(mirrors)': False, 'contains(gloating)': False, 'contains(herzfeld)': False, 'contains(inconsistent)': False, 'contains(untouched)': False, 'contains(whizzing)': False, 'contains(traumatizes)': False, 'contains(bouyant)': False, 'contains(initiated)': False, 'contains(yogi)': False, 'contains(wales)': False, 'contains(disintegrated)': False, 'contains(spotty)': False, 'contains(fisherman)': False, 'contains(greatness)': False, 'contains(neary)': False, 'contains(boiler)': False, 'contains(westlake)': False, 'contains(allan)': False, 'contains(organisations)': False, 'contains(premier)': False, 'contains(apace)': False, 'contains(matilda)': False, 'contains(belloq)': False, 'contains(glenne)': False, 'contains(nothin)': False, 'contains(implicit)': False, 'contains(macgowan)': False, 'contains(faded)': False, 'contains(ryan_)': False, 'contains(terrifyingly)': False, 'contains(awaiting)': False, 'contains(onofrio)': False, 'contains(goodman)': False, 'contains(caitlyn)': False, 'contains(virus)': False, 'contains(adroit)': False, 'contains(prostration)': False, 'contains(resorts)': False, 'contains(yugoslavians)': False, 'contains(signs)': False, 'contains(formulates)': False, 'contains(squabble)': False, 'contains(much)': False, 'contains(screaming)': False, 'contains(methods)': False, 'contains(despises)': False, 'contains(bogg)': False, 'contains(ony)': False, 'contains(excising)': False, 'contains(dahlings)': False, 'contains(makes)': False, 'contains(sympathize)': False, 'contains(stoicism)': False, 'contains(isaac)': False, 'contains(juergen)': False, 'contains(bolstered)': False, 'contains(blonde)': False, 'contains(aggressivelly)': False, 'contains(fruity)': False, 'contains(mutilated)': False, 'contains(mensch)': False, 'contains(behave)': False, 'contains(red)': False, 'contains(palladino)': False, 'contains(welcomes)': False, 'contains(seaman)': False, 'contains(couple)': False, 'contains(excitable)': False, 'contains(charges)': False, 'contains(rich)': False, 'contains(broader)': False, 'contains(shapely)': False, 'contains(betraying)': False, 'contains(gladys)': False, 'contains(wives)': False, 'contains(detectives)': False, 'contains(cobblers)': False, 'contains(unrecognizable)': False, 'contains(colonists)': False, 'contains(mintues)': False, 'contains(mystic)': False, 'contains(sportsmanship)': False, 'contains(benson)': False, 'contains(parachute)': False, 'contains(millieu)': False, 'contains(defensively)': False, 'contains(being)': False, 'contains(seminal)': False, 'contains(music)': False, 'contains(pull)': False, 'contains(90210)': False, 'contains(cloris)': False, 'contains(traumatised)': False, 'contains(diapers)': False, 'contains(replied)': False, 'contains(wachowskis)': False, 'contains(speedboat)': False, 'contains(krippendorf)': False, 'contains(hercules)': False, 'contains(meteorologist)': False, 'contains(bogglingly)': False, 'contains(smiling)': False, 'contains(pinto)': False, 'contains(bursting)': False, 'contains(modestly)': False, 'contains(climber)': False, 'contains(dodie)': False, 'contains(retell)': False, 'contains(wage)': False, 'contains(sela)': False, 'contains(henpecked)': False, 'contains(complications)': False, 'contains(pretzel)': False, 'contains(stifled)': False, 'contains(trys)': False, 'contains(reopens)': False, 'contains(babe)': False, 'contains(discerning)': False, 'contains(headset)': False, 'contains(stoker)': False, 'contains(doom)': False, 'contains(snuggles)': False, 'contains(cessation)': False, 'contains(abbreviated)': False, 'contains(enjoys)': False, 'contains(ideally)': False, 'contains(raped)': False, 'contains(_seven_nights_)': False, 'contains(haviland)': False, 'contains(confrontatory)': False, 'contains(charnel)': False, 'contains(pasadena)': False, 'contains(portentuous)': False, 'contains(titanium)': False, 'contains(abnormally)': False, 'contains(unwelcomed)': False, 'contains(procreate)': False, 'contains(keeble)': False, 'contains(sumptuous)': False, 'contains(conscious)': False, 'contains(regressive)': False, 'contains(embark)': False, 'contains(expound)': False, 'contains(wacked)': False, 'contains(engages)': False, 'contains(touchstone)': False, 'contains(amarcord)': False, 'contains(tsui)': False, 'contains(petrice)': False, 'contains(numeric)': False, 'contains(hotcakes)': False, 'contains(chlorine)': False, 'contains(locked)': False, 'contains(tremble)': False, 'contains(featherbrained)': False, 'contains(conceptually)': False, 'contains(genesis)': False, 'contains(meddled)': False, 'contains(awkwardness)': False, 'contains(friggin)': False, 'contains(mutinies)': False, 'contains(stoked)': False, 'contains(copious)': False, 'contains(revelatory)': False, 'contains(cronenberg)': False, 'contains(absorbs)': False, 'contains(rhythmless)': False, 'contains(burley)': False, 'contains(whoever)': False, 'contains(mosques)': False, 'contains(hag)': False, 'contains(bianca)': False, 'contains(anonymously)': False, 'contains(prior)': False, 'contains(procreating)': False, 'contains(carelessly)': False, 'contains(chad)': False, 'contains(forwarned)': False, 'contains(maker)': False, 'contains(fin)': False, 'contains(bulow)': False, 'contains(informants)': False, 'contains(nora)': False, 'contains(ballet)': False, 'contains(chomped)': False, 'contains(sommers)': False, 'contains(spacemusic)': False, 'contains(bastad)': False, 'contains(rabal)': False, 'contains(golden)': False, 'contains(whoaaaaaa)': False, 'contains(toning)': False, 'contains(overturned)': False, 'contains(handcuffs)': False, 'contains(nonsensical)': False, 'contains(preservation)': False, 'contains(eyelids)': False, 'contains(considerably)': False, 'contains(rioters)': False, 'contains(pressed)': False, 'contains(tightened)': False, 'contains(extent)': False, 'contains(wandering)': False, 'contains(dozen)': False, 'contains(remastered)': False, 'contains(deserves)': False, 'contains(beowolf)': False, 'contains(warfield)': False, 'contains(audaciously)': False, 'contains(majorino)': False, 'contains(featherweight)': False, 'contains(superiority)': False, 'contains(portents)': False, 'contains(harvests)': False, 'contains(colleague)': False, 'contains(fewer)': False, 'contains(turned)': False, 'contains(wunderkind)': False, 'contains(opportunists)': False, 'contains(goggins)': False, 'contains(zellwegger)': False, 'contains(middleton)': False, 'contains(atlantic)': False, 'contains(pimp)': False, 'contains(grounded)': False, 'contains(doreen)': False, 'contains(caan)': False, 'contains(unknowns)': False, 'contains(seldes)': False, 'contains(spine)': False, 'contains(measurements)': False, 'contains(stifler)': False, 'contains(heebie)': False, 'contains(turner)': False, 'contains(complicates)': False, 'contains(absurdities)': False, 'contains(unredeemable)': False, 'contains(navigators)': False, 'contains(rice)': False, 'contains(graffiti)': False, 'contains(oxymoron)': False, 'contains(sweaty)': False, 'contains(smashed)': False, 'contains(sorted)': False, 'contains(joely)': False, 'contains(phallus)': False, 'contains(roll)': False, 'contains(damnit)': False, 'contains(fugitives)': False, 'contains(shootout)': False, 'contains(saddened)': False, 'contains(span)': False, 'contains(condolences)': False, 'contains(koppelman)': False, 'contains(gardenia)': False, 'contains(locklear)': False, 'contains(cheekbones)': False, 'contains(horndog)': False, 'contains(topping)': False, 'contains(simplistic)': False, 'contains(foregin)': False, 'contains(muth)': False, 'contains(bamboo)': False, 'contains(leary)': False, 'contains(18th)': False, 'contains(gisbourne)': False, 'contains(oingo)': False, 'contains(natured)': False, 'contains(mistic)': False, 'contains(disaster_)': False, 'contains(ugc)': False, 'contains(spins)': False, 'contains(euphegenia)': False, 'contains(overpopulated)': False, 'contains(mba)': False, 'contains(more)': False, 'contains(lanky)': False, 'contains(oldies)': False, 'contains(_titus_andronicus_)': False, 'contains(thora)': False, 'contains(rooker)': False, 'contains(copulate)': False, 'contains(islamic)': False, 'contains(sympathetically)': False, 'contains(dolph)': False, 'contains(dynamics)': False, 'contains(convincingly)': False, 'contains(bedridden)': False, 'contains(woody)': False, 'contains(sunny)': False, 'contains(combatants)': False, 'contains(scenic)': False, 'contains(cannibals)': False, 'contains(allah)': False, 'contains(capoeira)': False, 'contains(petey)': False, 'contains(codename)': False, 'contains(goregeous)': False, 'contains(beloved)': False, 'contains(hav)': False, 'contains(macho)': False, 'contains(chins)': False, 'contains(goddamn)': False, 'contains(desiring)': False, 'contains(watcher)': False, 'contains(congratulations)': False, 'contains(velda)': False, 'contains(stylistics)': False, 'contains(crowbar)': False, 'contains(ahern)': False, 'contains(pyroclastic)': False, 'contains(incongruent)': False, 'contains(isacsson)': False, 'contains(shocks)': False, 'contains(hideaway)': False, 'contains(alexandre)': False, 'contains(chirping)': False, 'contains(gunshot)': False, 'contains(nervousness)': False, 'contains(retroactive)': False, 'contains(nighthawks)': False, 'contains(cranked)': False, 'contains(disasters)': False, 'contains(quaint)': False, 'contains(wrinkled)': False, 'contains(frontgate)': False, 'contains(shadow)': False, 'contains(onw)': False, 'contains(binges)': False, 'contains(unjust)': False, 'contains(meantime)': False, 'contains(scorces)': False, 'contains(mirabella)': False, 'contains(charmed)': False, 'contains(stays)': False, 'contains(disgrace)': False, 'contains(yakov)': False, 'contains(therefore)': False, 'contains(grapples)': False, 'contains(painkiller)': False, 'contains(waning)': False, 'contains(recycles)': False, 'contains(symmetry)': False, 'contains(wants)': False, 'contains(f)': False, 'contains(melinda)': False, 'contains(magma)': False, 'contains(falstaff)': False, 'contains(battleships)': False, 'contains(shenanigans)': False, 'contains(locations)': False, 'contains(dumbest)': False, 'contains(diggler)': False, 'contains(dismantling)': False, 'contains(canran)': False, 'contains(ahmet)': False, 'contains(prizes)': False, 'contains(longo)': False, 'contains(overcooked)': False, 'contains(stereotypical)': False, 'contains(vivien)': False, 'contains(negativity)': False, 'contains(impacted)': False, 'contains(snugly)': False, 'contains(collides)': False, 'contains(stipulate)': False, 'contains(stifles)': False, 'contains(originally)': False, 'contains(upstate)': False, 'contains(gigolo)': False, 'contains(delectably)': False, 'contains(unjustifyably)': False, 'contains(pivot)': False, 'contains(spewing)': False, 'contains(former)': False, 'contains(fedoras)': False, 'contains(devito)': False, 'contains(telescope)': False, 'contains(collectively)': False, 'contains(savini)': False, 'contains(periodic)': False, 'contains(skewer)': False, 'contains(disasterous)': False, 'contains(enthrall)': False, 'contains(displays)': False, 'contains(carrion)': False, 'contains(weirdoes)': False, 'contains(buliwyf)': False, 'contains(palms)': False, 'contains(omaha)': False, 'contains(beesley)': False, 'contains(spyglass)': False, 'contains(spam)': False, 'contains(dyer)': False, 'contains(feeling)': False, 'contains(======)': False, 'contains(fueled)': False, 'contains(aussies)': False, 'contains(tenacious)': False, 'contains(restraints)': False, 'contains(doos)': False, 'contains(modest)': False, 'contains(chu)': False, 'contains(guitry)': False, 'contains(boarded)': False, 'contains(fistfights)': False, 'contains(trekkie)': False, 'contains(gripe)': False, 'contains(universally)': False, 'contains(lingering)': False, 'contains(breakfast)': False, 'contains(societal)': False, 'contains(courses)': False, 'contains(outburst)': False, 'contains(hatchette)': False, 'contains(obscured)': False, 'contains(floated)': False, 'contains(limburgher)': False, 'contains(gorman)': False, 'contains(pissant)': False, 'contains(mussenden)': False, 'contains(underlining)': False, 'contains(duet)': False, 'contains(estimate)': False, 'contains(testaments)': False, 'contains(francesca)': False, 'contains(lameness)': False, 'contains(bliss)': False, 'contains(slothful)': False, 'contains(bazooms)': False, 'contains(smirk)': False, 'contains(haw)': False, 'contains(glowers)': False, 'contains(learn)': False, 'contains(playfulness)': False, 'contains(hackwork)': False, 'contains(distractedness)': False, 'contains(perturbed)': False, 'contains(aboard)': False, 'contains(enliven)': False, 'contains(briesewitz)': False, 'contains(exasperating)': False, 'contains(ambiguities)': False, 'contains(waitering)': False, 'contains(israel)': False, 'contains(insane)': False, 'contains(kfc)': False, 'contains(spin)': False, 'contains(tracking)': False, 'contains(massironi)': False, 'contains(directs)': False, 'contains(limitless)': False, 'contains(slaver)': False, 'contains(chrissy)': False, 'contains(lang)': False, 'contains(droning)': False, 'contains(deserved)': False, 'contains(bozo)': False, 'contains(apropos)': False, 'contains(subplots)': False, 'contains(parlay)': False, 'contains(hai)': False, 'contains(healed)': False, 'contains(collided)': False, 'contains(expanded)': False, 'contains(academic)': False, 'contains(chaz)': False, 'contains(pridefully)': False, 'contains(twisting)': False, 'contains(whacking)': False, 'contains(francesco)': False, 'contains(turkish)': False, 'contains(extend)': False, 'contains(sock)': False, 'contains(kriss)': False, 'contains(tolan)': False, 'contains(concentrates)': False, 'contains(friend)': False, 'contains(small)': False, 'contains(landslide)': False, 'contains(himalayas)': False, 'contains(clarkson)': False, 'contains(delicately)': False, 'contains(punishable)': False, 'contains(chow)': False, 'contains(simplify)': False, 'contains(romper)': False, 'contains(rickman)': False, 'contains(shipments)': False, 'contains(inanimate)': False, 'contains(gershon)': False, 'contains(unsubstantial)': False, 'contains(neophytes)': False, 'contains(unsinkable)': False, 'contains(bohemians)': False, 'contains(surname)': False, 'contains(noteables)': False, 'contains(pooper)': False, 'contains(boozed)': False, 'contains(villiany)': False, 'contains(cuisine)': False, 'contains(arkin)': False, 'contains(wires)': False, 'contains(barrel)': False, 'contains(coaxed)': False, 'contains(duper)': False, 'contains(nordoff)': False, 'contains(aboslutely)': False, 'contains(jonnie)': False, 'contains(flipper)': False, 'contains(issac)': False, 'contains(uplifting)': False, 'contains(satire)': False, 'contains(mesmerize)': False, 'contains(norm)': False, 'contains(sects)': False, 'contains(decapitation)': False, 'contains(weendigo)': False, 'contains(union)': False, 'contains(admired)': False, 'contains(municipality)': False, 'contains(initiate)': False, 'contains(sked)': False, 'contains(freehold)': False, 'contains(butchers)': False, 'contains(conscription)': False, 'contains(tempted)': False, 'contains(engaged)': False, 'contains(soviets)': False, 'contains(milquetoast)': False, 'contains(scrubs)': False, 'contains(binding)': False, 'contains(.)': True, 'contains(ire)': False, 'contains(neurologist)': False, 'contains(address)': False, 'contains(tantalizingly)': False, 'contains(shockwave)': False, 'contains(dickinson)': False, 'contains(tightrope)': False, 'contains(transported)': False, 'contains(symbolise)': False, 'contains(plucked)': False, 'contains(assuring)': False, 'contains(investment)': False, 'contains(tricks)': False, 'contains(r2)': False, 'contains(phelps)': False, 'contains(door)': False, 'contains(ghostbusters)': False, 'contains(emmylou)': False, 'contains(houseman)': False, 'contains(proprietor)': False, 'contains(shandling)': False, 'contains(masturbates)': False, 'contains(sonorra)': False, 'contains(obliges)': False, 'contains(bicentennial)': False, 'contains(faulkner)': False, 'contains(minnie)': False, 'contains(ambling)': False, 'contains(mythos)': False, 'contains(courageously)': False, 'contains(marquee)': False, 'contains(storyboarded)': False, 'contains(hairdresser)': False, 'contains(following)': False, 'contains(guamo)': False, 'contains(horsing)': False, 'contains(sedition)': False, 'contains(redirection)': False, 'contains(roots)': False, 'contains(painstakingly)': False, 'contains(contrastingly)': False, 'contains(dues)': False, 'contains(huddled)': False, 'contains(disengaging)': False, 'contains(disgraced)': False, 'contains(crater)': False, 'contains(fabric)': False, 'contains(zippers)': False, 'contains(attenuated)': False, 'contains(cultivating)': False, 'contains(gown)': False, 'contains(positively)': False, 'contains(singed)': False, 'contains(twotg)': False, 'contains(disturbed)': False, 'contains(liebes)': False, 'contains(peppy)': False, 'contains(vexing)': False, 'contains(holdover)': False, 'contains(singer)': False, 'contains(shawn)': False, 'contains(sprinkle)': False, 'contains(consoles)': False, 'contains(sensitively)': False, 'contains(midget)': False, 'contains(land)': False, 'contains(katie)': False, 'contains(jitters)': False, 'contains(corrects)': False, 'contains(magyuver)': False, 'contains(indiscretion)': False, 'contains(locks)': False, 'contains(integrating)': False, 'contains(loco)': False, 'contains(ratttz)': False, 'contains(flyboy)': False, 'contains(hessian)': False, 'contains(budget)': False, 'contains(turvy)': False, 'contains(occurs)': False, 'contains(kroon)': False, 'contains(customer)': False, 'contains(hugh)': False, 'contains(ayla)': False, 'contains(crowdpleasing)': False, 'contains(embrassment)': False, 'contains(hockley)': False, 'contains(jovovich)': False, 'contains(malfunctions)': False, 'contains(jiang)': False, 'contains(scoffs)': False, 'contains(filmcritic)': False, 'contains(ahmed)': False, 'contains(zappa)': False, 'contains(designing)': False, 'contains(rabbinical)': False, 'contains(kyzynski)': False, 'contains(meaner)': False, 'contains(palisades)': False, 'contains(kensington)': False, 'contains(uhhhhhm)': False, 'contains(faceted)': False, 'contains(cadence)': False, 'contains(delroy)': False, 'contains(laughton)': False, 'contains(unequipped)': False, 'contains(pales)': False, 'contains(portait)': False, 'contains(photos)': False, 'contains(bouncy)': False, 'contains(_dragon_)': False, 'contains(sensitivity)': False, 'contains(assigns)': False, 'contains(tasting)': False, 'contains(dismissed)': False, 'contains(namuth)': False, 'contains(kids)': False, 'contains(acted)': False, 'contains(materialized)': False, 'contains(concentrated)': False, 'contains(individuals)': False, 'contains(alarming)': False, 'contains(wyman)': False, 'contains(elisa)': False, 'contains(internet)': False, 'contains(pass)': False, 'contains(existential)': False, 'contains(pencil)': False, 'contains(hennings)': False, 'contains(boorman)': False, 'contains(hash)': False, 'contains(balaban)': False, 'contains(exclaimed)': False, 'contains(chat)': False, 'contains(reconstruction)': False, 'contains(rocque)': False, 'contains(sensational)': False, 'contains(morose)': False, 'contains(rewatched)': False, 'contains(quarter)': False, 'contains(maclachlan)': False, 'contains(agitation)': False, 'contains(rover)': False, 'contains(eradicate)': False, 'contains(restoring)': False, 'contains(neilsen)': False, 'contains(traumatized)': False, 'contains(bureaucrat)': False, 'contains(padded)': False, 'contains(wickedly)': False, 'contains(self)': False, 'contains(overal)': False, 'contains(frieberg)': False, 'contains(teresa)': False, 'contains(jetsons)': False, 'contains(puzzling)': False, 'contains(gloomy)': False, 'contains(jip)': False, 'contains(waving)': False, 'contains(reconciling)': False, 'contains(typhoon)': False, 'contains(professionally)': False, 'contains(magwitch)': False, 'contains(lengthen)': False, 'contains(_eve)': False, 'contains(chabert)': False, 'contains(tamahori)': False, 'contains(welcomed)': False, 'contains(crates)': False, 'contains(reap)': False, 'contains(suffice)': False, 'contains(xenophobe)': False, 'contains(controversy)': False, 'contains(caned)': False, 'contains(mishandle)': False, 'contains(hay)': False, 'contains(honk)': False, 'contains(henceforth)': False, 'contains(sojourn)': False, 'contains(amphibians)': False, 'contains(rage)': False, 'contains(funicello)': False, 'contains(buzzsaw)': False, 'contains(fornicators)': False, 'contains(naomi)': False, 'contains(sci)': False, 'contains(lane)': False, 'contains(effects)': False, 'contains(uploaded)': False, 'contains(bueller)': False, 'contains(gadget)': False, 'contains(reactions)': False, 'contains(academia)': False, 'contains(brainless)': False, 'contains(henreid)': False, 'contains(debilitating)': False, 'contains(oblige)': False, 'contains(patrolled)': False, 'contains(realisation)': False, 'contains(explosions)': False, 'contains(voicework)': False, 'contains(raucous)': False, 'contains(edges)': False, 'contains(hoyle)': False, 'contains(pumpkins)': False, 'contains(tamara)': False, 'contains(revolutionized)': False, 'contains(vegetative)': False, 'contains(k)': False, 'contains(damian)': False, 'contains(casualness)': False, 'contains(uninterrupted)': False, 'contains(amalgamation)': False, 'contains(exact)': False, 'contains(harnessed)': False, 'contains(moderately)': False, 'contains(minute)': False, 'contains(canning)': False, 'contains(continents)': False, 'contains(comically)': False, 'contains(stagecoach)': False, 'contains(harve)': False, 'contains(bummer)': False, 'contains(barren)': False, 'contains(colorized)': False, 'contains(edgecomb)': False, 'contains(rewarded)': False, 'contains(also)': True, 'contains(hormones)': False, 'contains(losin)': False, 'contains(policed)': False, 'contains(tardis)': False, 'contains(fecal)': False, 'contains(blond)': False, 'contains(detested)': False, 'contains(playback)': False, 'contains(reingold)': False, 'contains(rulebook)': False, 'contains(undeveloped)': False, 'contains(wynt)': False, 'contains(toucha)': False, 'contains(connection)': False, 'contains(matheson)': False, 'contains(civilians)': False, 'contains(scream)': True, 'contains(scalvaging)': False, 'contains(rica)': False, 'contains(brassed)': False, 'contains(troubled)': False, 'contains(altogether)': False, 'contains(oldham)': False, 'contains(dave)': False, 'contains(bacri)': False, 'contains(slurring)': False, 'contains(bakersfield)': False, 'contains(droves)': False, 'contains(carters)': False, 'contains(ineffable)': False, 'contains(beristain)': False, 'contains(spar)': False, 'contains(von)': False, 'contains(coachmen)': False, 'contains(mafioso)': False, 'contains(mora)': False, 'contains(crackled)': False, 'contains(working)': False, 'contains(plate)': False, 'contains(opposed)': False, 'contains(unrepentant)': False, 'contains(mayer)': False, 'contains(vision)': False, 'contains(clock)': False, 'contains(unveil)': False, 'contains(hickey)': False, 'contains(swanky)': False, 'contains(brazilian)': False, 'contains(rootless)': False, 'contains(turnaround)': False, 'contains(conceptions)': False, 'contains(metamorphoses)': False, 'contains(heirloom)': False, 'contains(looted)': False, 'contains(photon)': False, 'contains(climb)': False, 'contains(last)': False, 'contains(sidekicks)': False, 'contains(traffic)': False, 'contains(honeymoon)': False, 'contains(interactivity)': False, 'contains(farsical)': False, 'contains(lasso)': False, 'contains(principals)': False, 'contains(china)': True, 'contains(intrepid)': False, 'contains(maltese)': False, 'contains(choice)': False, 'contains(kuei)': False, 'contains(unwittingly)': False, 'contains(lifeline)': False, 'contains(sums)': False, 'contains(demarco)': False, 'contains(orleans)': False, 'contains(thurman)': False, 'contains(treason)': False, 'contains(woods)': False, 'contains(captive)': False, 'contains(mummified)': False, 'contains(everclear)': False, 'contains(droppingly)': False, 'contains(patriarch)': False, 'contains(portobello)': False, 'contains(ooooooo)': False, 'contains(vaporize)': False, 'contains(tahoe)': False, 'contains(dinosaurs)': False, 'contains(remaning)': False, 'contains(underbelly)': False, 'contains(one)': True, 'contains(watches)': False, 'contains(hal)': False, 'contains(megabytes)': False, 'contains(sealed)': False, 'contains(hopkins)': False, 'contains(unlikeable)': False, 'contains(remedy)': False, 'contains(thomsen)': False, 'contains(riots)': False, 'contains(everytime)': False, 'contains(affairs)': False, 'contains(tragicomic)': False, 'contains(scraped)': False, 'contains(confidence)': False, 'contains(clarified)': False, 'contains(resemblances)': False, 'contains(feuds)': False, 'contains(muck)': False, 'contains(mindless)': False, 'contains(grueling)': False, 'contains(singles)': False, 'contains(glamor)': False, 'contains(innuendos)': False, 'contains(neglect)': False, 'contains(lipstick)': False, 'contains(heartedness)': False, 'contains(portrayed)': False, 'contains(salva)': False, 'contains(damning)': False, 'contains(bandaras)': False, 'contains(beyer)': False, 'contains(squeezes)': False, 'contains(rehash)': False, 'contains(emotion)': False, 'contains(boiled)': False, 'contains(mckidd)': False, 'contains(yankovich)': False, 'contains(amuck)': False, 'contains(_escape)': False, 'contains(puppy)': False, 'contains(overboard)': False, 'contains(structuring)': False, 'contains(inquired)': False, 'contains(dangerfield)': False, 'contains(sank)': False, 'contains(heavyweight)': False, 'contains(coaxing)': False, 'contains(caruso)': False, 'contains(splashing)': False, 'contains(carping)': False, 'contains(blizzard)': False, 'contains(demolition)': False, 'contains(employ)': False, 'contains(calculation)': False, 'contains(isaak)': False, 'contains(repayment)': False, 'contains(feasibility)': False, 'contains(influx)': False, 'contains(saint)': False, 'contains(tiegs)': False, 'contains(experience)': False, 'contains(locker)': False, 'contains(preciously)': False, 'contains(pairs)': False, 'contains(espouses)': False, 'contains(childs)': False, 'contains(vicent)': False, 'contains(dusty)': False, 'contains(prancer)': False, 'contains(overthrow)': False, 'contains(retarded)': False, 'contains(mcnamara)': False, 'contains(studious)': False, 'contains(listens)': False, 'contains(emergency)': False, 'contains(split)': False, 'contains(saving)': False, 'contains(unequivocally)': False, 'contains(admire)': False, 'contains(vamires)': False, 'contains(smashes)': False, 'contains(overwhelmed)': False, 'contains(outfielders)': False, 'contains(eduard)': False, 'contains(48th)': False, 'contains(prostrate)': False, 'contains(haplessly)': False, 'contains(glean)': False, 'contains(verges)': False, 'contains(hounded)': False, 'contains(excuses)': False, 'contains(jere)': False, 'contains(quartet)': False, 'contains(recipients)': False, 'contains(crescendo)': False, 'contains(merpeople)': False, 'contains(dowling)': False, 'contains(skywalker)': False, 'contains(canet)': False, 'contains(dyed)': False, 'contains(taj)': False, 'contains(veer)': False, 'contains(project)': False, 'contains(beatng)': False, 'contains(spews)': False, 'contains(jacks)': False, 'contains(spectrum)': False, 'contains(boarder)': False, 'contains(rewards)': False, 'contains(schandling)': False, 'contains(antagonizes)': False, 'contains(workplace)': False, 'contains(complicated)': False, 'contains(dysfuntion)': False, 'contains(afi)': False, 'contains(scatter)': False, 'contains(raeeyain)': False, 'contains(dirty)': False, 'contains(suspensefully)': False, 'contains(weeds)': False, 'contains(palme)': False, 'contains(deflection)': False, 'contains(enrols)': False, 'contains(jewels)': False, 'contains(barcode)': False, 'contains(wolves)': False, 'contains(research)': False, 'contains(tripe)': False, 'contains(infamous)': False, 'contains(recoiling)': False, 'contains(scrumptiously)': False, 'contains(spearing)': False, 'contains(firorina)': False, 'contains(plath)': False, 'contains(amusements)': False, 'contains(parasites)': False, 'contains(causes)': False, 'contains(gallagher)': False, 'contains(sometimes)': False, 'contains(explainable)': False, 'contains(opal)': False, 'contains(hone)': False, 'contains(psychiatric)': False, 'contains(ham)': False, 'contains(invite)': False, 'contains(cream)': False, 'contains(november)': False, 'contains(rawhide)': False, 'contains(moons)': False, 'contains(multitudes)': False, 'contains(errors)': False, 'contains(deflate)': False, 'contains(sleuthing)': False, 'contains(oilrig)': False, 'contains(prostitues)': False, 'contains(dialogueless)': False, 'contains(attendance)': False, 'contains(paraglider)': False, 'contains(massaging)': False, 'contains(deadpan)': False, 'contains(snake)': False, 'contains(racers)': False, 'contains(gases)': False, 'contains(corrected)': False, 'contains(considerable)': False, 'contains(indigenous)': False, 'contains(definition)': False, 'contains(retrieve)': False, 'contains(admitedly)': False, 'contains(beings)': False, 'contains(kasinsky)': False, 'contains(testament)': False, 'contains(rhodes)': False, 'contains(lyricized)': False, 'contains(elmo)': False, 'contains(daqughter)': False, 'contains(ballhaus)': False, 'contains(paychecks)': False, 'contains(world)': True, 'contains(zsigmond)': False, 'contains(crowned)': False, 'contains(gopher)': False, 'contains(activists)': False, 'contains(grasping)': False, 'contains(adaptable)': False, 'contains(emanating)': False, 'contains(maliciously)': False, 'contains(polemic)': False, 'contains(affiliated)': False, 'contains(imagines)': False, 'contains(ingrid)': False, 'contains(concurrence)': False, 'contains(ocious)': False, 'contains(loren)': False, 'contains(biederman)': False, 'contains(claustral)': False, 'contains(motives)': False, 'contains(penthouse)': False, 'contains(sentencing)': False, 'contains(professors)': False, 'contains(rejoiced)': False, 'contains(yevgeny)': False, 'contains(whodunit)': False, 'contains(appropriately)': False, 'contains(robot)': False, 'contains(alice)': False, 'contains(majestically)': False, 'contains(years)': False, 'contains(theroux)': False, 'contains(zoo)': False, 'contains(west)': False, 'contains(nntphub)': False, 'contains(tonino)': False, 'contains(benefit)': False, 'contains(prances)': False, 'contains(reacquaints)': False, 'contains(natalie)': False, 'contains(rediscovers)': False, 'contains(sharpe)': False, 'contains(cheaply)': False, 'contains(rico)': False, 'contains(opposite)': False, 'contains(recycled)': False, 'contains(past)': False, 'contains(francois)': False, 'contains(disobeying)': False, 'contains(sprouted)': False, 'contains(jia)': False, 'contains(instability)': False, 'contains(ira)': False, 'contains(stamping)': False, 'contains(eery)': False, 'contains(murphy)': False, 'contains(lookin)': False, 'contains(witt)': False, 'contains(hanging)': False, 'contains(jargon)': False, 'contains(suspension)': False, 'contains(cagey)': False, 'contains(wraps)': False, 'contains(benches)': False, 'contains(respective)': False, 'contains(didi)': False, 'contains(fleischer)': False, 'contains(retains)': False, 'contains(remand)': False, 'contains(likeablity)': False, 'contains(educational)': False, 'contains(obscures)': False, 'contains(intelligent)': False, 'contains(incense)': False, 'contains(kret)': False, 'contains(friction)': False, 'contains(influence)': False, 'contains(morally)': False, 'contains(mistreated)': False, 'contains(lively)': False, 'contains(wholesome)': False, 'contains(recognizing)': False, 'contains(yahoo)': False, 'contains(salads)': False, 'contains(initiation)': False, 'contains(gavan)': False, 'contains(barrymore)': False, 'contains(mournful)': False, 'contains(caraciture)': False, 'contains(complexly)': False, 'contains(caged)': False, 'contains(bell)': False, 'contains(richelieu)': False, 'contains(gypsies)': False, 'contains(zucker)': False, 'contains(globally)': False, 'contains(diverted)': False, 'contains(chair)': False, 'contains(cavanaugh)': False, 'contains(situation)': False, 'contains(stetson)': False, 'contains(americanised)': False, 'contains(broiled)': False, 'contains(masquerading)': False, 'contains(fearlessly)': False, 'contains(sumo)': False, 'contains(periodical)': False, 'contains(seize)': False, 'contains(mishap)': False, 'contains(reuben)': False, 'contains(rush)': False, 'contains(abound)': False, 'contains(melbourne)': False, 'contains(oversight)': False, 'contains(cecilia)': False, 'contains(topicality)': False, 'contains(tomahawk)': False, 'contains(patois)': False, 'contains(kihlstedt)': False, 'contains(han)': False, 'contains(bandits)': False, 'contains(defeatist)': False, 'contains(mendes)': False, 'contains(crown)': False, 'contains(boondocks)': False, 'contains(restlessness)': False, 'contains(averse)': False, 'contains(messier)': False, 'contains(flooded)': False, 'contains(lock)': False, 'contains(commensurately)': False, 'contains(gregor)': False, 'contains(sabotaging)': False, 'contains(signy)': False, 'contains(unformal)': False, 'contains(adapt)': False, 'contains(cleverness)': False, 'contains(abbots)': False, 'contains(patch)': False, 'contains(realize)': False, 'contains(seagrave)': False, 'contains(beaman)': False, 'contains(nears)': False, 'contains(blunted)': False, 'contains(choudhury)': False, 'contains(coolness)': False, 'contains(almasy)': False, 'contains(sickness)': False, 'contains(bukater)': False, 'contains(sweats)': False, 'contains(vargas)': False, 'contains(askew)': False, 'contains(erica)': False, 'contains(primeval)': False, 'contains(interned)': False, 'contains(johnston)': False, 'contains(songwriter)': False, 'contains(respite)': False, 'contains(multidimensional)': False, 'contains(follower)': False, 'contains(seriously)': False, 'contains(originality)': False, 'contains(loveliest)': False, 'contains(flits)': False, 'contains(abused)': False, 'contains(inhuman)': False, 'contains(vomits)': False, 'contains(kethcum)': False, 'contains(sang)': False, 'contains(passenger)': False, 'contains(imagined)': False, 'contains(leadership)': False, 'contains(ethnocentric)': False, 'contains(prosper)': False, 'contains(crook)': False, 'contains(buffet)': False, 'contains(fig)': False, 'contains(chucky)': False, 'contains(memoirs)': False, 'contains(kaminski)': False, 'contains(tilting)': False, 'contains(czech)': False, 'contains(_would_)': False, 'contains(improvisationaly)': False, 'contains(linebackers)': False, 'contains(disjointed)': False, 'contains(wang)': False, 'contains(modernizing)': False, 'contains(foreheads)': False, 'contains(catchiness)': False, 'contains(raiders)': False, 'contains(silencers)': False, 'contains(uncouth)': False, 'contains(idly)': False, 'contains(voe)': False, 'contains(exuberantly)': False, 'contains(hallucinogenic)': False, 'contains(mackey)': False, 'contains(cartman)': False, 'contains(retrospect)': False, 'contains(vow)': False, 'contains(egotistical)': False, 'contains(snatch)': False, 'contains(hofstra)': False, 'contains(crooned)': False, 'contains(fifteen)': False, 'contains(doctoring)': False, 'contains(aaaaaaaahhhh)': False, 'contains(purred)': False, 'contains(lapping)': False, 'contains(allie)': False, 'contains(thaddeus)': False, 'contains(guarding)': False, 'contains(hawaiian)': False, 'contains(protovision)': False, 'contains(chopping)': False, 'contains(yugoslavian)': False, 'contains(internalize)': False, 'contains(inserting)': False, 'contains(monogamy)': False, 'contains(company)': False, 'contains(wooden)': False, 'contains(awestruck)': False, 'contains(tribes)': False, 'contains(intestines)': False, 'contains(obese)': False, 'contains(frighteners)': False, 'contains(shread)': False, 'contains(prepared)': False, 'contains(silva)': False, 'contains(yeager)': False, 'contains(royalist)': False, 'contains(slimeball)': False, 'contains(colorfully)': False, 'contains(pimple)': False, 'contains(into)': True, 'contains(firth)': False, 'contains(braggarts)': False, 'contains(babs)': False, 'contains(crackin)': False, 'contains(workmanlike)': False, 'contains(forrester)': False, 'contains(idle)': False, 'contains(cusack)': False, 'contains(accomplished)': True, 'contains(skewed)': False, 'contains(zahn)': False, 'contains(hong)': True, 'contains(sebastiano)': False, 'contains(clicked)': False, 'contains(paperwork)': False, 'contains(unwraps)': False, 'contains(wayward)': False, 'contains(rayden)': False, 'contains(torpedoes)': False, 'contains(elgar)': False, 'contains(sell)': False, 'contains(ernie)': False, 'contains(bongos)': False, 'contains(boatload)': False, 'contains(flowing)': False, 'contains(crashlands)': False, 'contains(nuptials)': False, 'contains(allegra)': False, 'contains(plotless)': False, 'contains(obssessed)': False, 'contains(realizes)': False, 'contains(advertisment)': False, 'contains(lass)': False, 'contains(spatula)': False, 'contains(initation)': False, 'contains(bigscreen)': False, 'contains(voyeuristic)': False, 'contains(grooms)': False, 'contains(blunderheaded)': False, 'contains(barton)': False, 'contains(cooks)': False, 'contains(blended)': False, 'contains(chapelle)': False, 'contains(thigh)': False, 'contains(arrow)': False, 'contains(legitimately)': False, 'contains(yojimbo)': False, 'contains(eleven)': False, 'contains(engagingly)': False, 'contains(competed)': False, 'contains(miniatures)': False, 'contains(postal)': False, 'contains(deloreans)': False, 'contains(climbs)': False, 'contains(stanleyville)': False, 'contains(thieves)': False, 'contains(fades)': False, 'contains(hugo)': False, 'contains(cayman)': False, 'contains(phil)': False, 'contains(sciorra)': False, 'contains(downloading)': False, 'contains(impaling)': False, 'contains(deuteronomy)': False, 'contains(projection)': False, 'contains(tanked)': False, 'contains(bogan)': False, 'contains(odile)': False, 'contains(palentologist)': False, 'contains(confronts)': False, 'contains(bottom)': False, 'contains(portorican)': False, 'contains(inventively)': False, 'contains(cuffs)': False, 'contains(boxing)': False, 'contains(consenting)': False, 'contains(accommodations)': False, 'contains(rapes)': False, 'contains(narrations)': False, 'contains(shocking)': False, 'contains(variable)': False, 'contains(despised)': False, 'contains(resemble)': False, 'contains(rza)': False, 'contains(conciousness)': False, 'contains(haunt)': False, 'contains(rehab)': False, 'contains(comprehensible)': False, 'contains(attorney)': False, 'contains(frights)': False, 'contains(bilingual)': False, 'contains(poignantly)': False, 'contains(goofing)': False, 'contains(dethrones)': False, 'contains(reintroduced)': False, 'contains(alienbusting)': False, 'contains(mccleod)': False, 'contains(procured)': False, 'contains(melancholic)': False, 'contains(barclay)': False, 'contains(toontown)': False, 'contains(courier)': False, 'contains(lavishness)': False, 'contains(hugs)': False, 'contains(familar)': False, 'contains(rifling)': False, 'contains(thickened)': False, 'contains(martineau)': False, 'contains(millionaire)': False, 'contains(amiss)': False, 'contains(gratuitous)': False, 'contains(urinate)': False, 'contains(materializes)': False, 'contains(fro)': False, 'contains(recollections)': False, 'contains(frewer)': False, 'contains(essays)': False, 'contains(unnerve)': False, 'contains(diverse)': False, 'contains(roadster)': False, 'contains(sant)': False, 'contains(gleam)': False, 'contains(succumb)': False, 'contains(marched)': False, 'contains(superintendent)': False, 'contains(effortlessly)': True, 'contains(prescott)': False, 'contains(comparitive)': False, 'contains(thumps)': False, 'contains(_2001_)': False, 'contains(captivatingly)': False, 'contains(kinkiness)': False, 'contains(ofcs)': False, 'contains(with)': True, 'contains(disfigured)': False, 'contains(wynn)': False, 'contains(idols)': False, 'contains(lounging)': False, 'contains(lindner)': False, 'contains(arousal)': False, 'contains(vainly)': False, 'contains(huns)': False, 'contains(intent)': False, 'contains(rosselini)': False, 'contains(jubilantly)': False, 'contains(novelty)': False, 'contains(unparalleled)': False, 'contains(insight)': False, 'contains(workmates)': False, 'contains(perfect)': False, 'contains(1600s)': False, 'contains(impressions)': False, 'contains(rumored)': False, 'contains(getaway)': False, 'contains(slickster)': False, 'contains(dirtier)': False, 'contains(spoken)': False, 'contains(dryland)': False, 'contains(chain)': False, 'contains(realized)': False, 'contains(_people_)': False, 'contains(tech)': False, 'contains(brotherhood)': False, 'contains(operation)': False, 'contains(houston)': False, 'contains(guiler)': False, 'contains(sublte)': False, 'contains(newspaper)': False, 'contains(dick_)': False, 'contains(eddie)': False, 'contains(ulcer)': False, 'contains(fanatasies)': False, 'contains(tv2)': False, 'contains(emerich)': False, 'contains(caused)': False, 'contains(missy)': False, 'contains(marshals)': False, 'contains(jittery)': False, 'contains(dolly)': False, 'contains(hap)': False, 'contains(barbarino)': False, 'contains(insecurity)': False, 'contains(numeral)': False, 'contains(decorating)': False, 'contains(crotch)': False, 'contains(cherbourg)': False, 'contains(controversies)': False, 'contains(dwindling)': False, 'contains(cormack)': False, 'contains(buffed)': False, 'contains(committing)': False, 'contains(powaqqatsi)': False, 'contains(malevolent)': False, 'contains(insubordination)': False, 'contains(awards)': False, 'contains(visually)': False, 'contains(tvs)': False, 'contains(thailand)': False, 'contains(rejoin)': False, 'contains(sommerset)': False, 'contains(disheveled)': False, 'contains(seclusion)': False, 'contains(comedy)': True, 'contains(travel)': False, 'contains(hypnotist)': False, 'contains(scraggly)': False, 'contains(thai)': False, 'contains(terrorists)': False, 'contains(nebbish)': False, 'contains(documentarian)': False, 'contains(waterlogged)': False, 'contains(cynics)': False, 'contains(understands)': False, 'contains(jugs)': False, 'contains(boardroom)': False, 'contains(15th)': False, 'contains(subkoff)': False, 'contains(hab)': False, 'contains(24th)': False, 'contains(comely)': False, 'contains(dicks)': False, 'contains(copyrighted)': False, 'contains(paper)': False, 'contains(denny)': False, 'contains(leonardo)': False, 'contains(matsumoto)': False, 'contains(sane)': False, 'contains(intended)': False, 'contains(kaminsky)': False, 'contains(underbids)': False, 'contains(brides)': False, 'contains(retrograding)': False, 'contains(overpowering)': False, 'contains(depravity)': False, 'contains(tingles)': False, 'contains(multiracial)': False, 'contains(eighteen)': False, 'contains(flashback)': False, 'contains(homogeneity)': False, 'contains(knowingly)': False, 'contains(full)': False, 'contains(wcw)': False, 'contains(divine)': False, 'contains(pleasured)': False, 'contains(reverence)': False, 'contains(loca)': False, 'contains(suburbs)': False, 'contains(toothed)': False, 'contains(infect)': False, 'contains(greener)': False, 'contains(politely)': False, 'contains(quicker)': False, 'contains(wane)': False, 'contains(video)': False, 'contains(catchy)': False, 'contains(service)': False, 'contains(\\\\)': False, 'contains(maclaine)': False, 'contains(associating)': False, 'contains(critter)': False, 'contains(pesimism)': False, 'contains(resonates)': False, 'contains(gooey)': False, 'contains(installed)': False, 'contains(exaggerations)': False, 'contains(dishearteningly)': False, 'contains(knocked)': False, 'contains(justly)': False, 'contains(intend)': False, 'contains(sans)': False, 'contains(illness)': False, 'contains(manga)': False, 'contains(menancing)': False, 'contains(otherworldly)': False, 'contains(existentialist)': False, 'contains(sickeningly)': False, 'contains(jerk)': False, 'contains(role)': False, 'contains(hasn)': False, 'contains(introspection)': False, 'contains(frizzi)': False, 'contains(triangles)': False, 'contains(parents)': False, 'contains(crookier)': False, 'contains(fakeouts)': False, 'contains(mat)': False, 'contains(indifference)': False, 'contains(prakazrel)': False, 'contains(spielbergization)': False, 'contains(33)': False, 'contains(chorus)': False, 'contains(ugh)': False, 'contains(tornatore)': False, 'contains(cleon)': False, 'contains(squirming)': False, 'contains(bogie)': False, 'contains(panicked)': False, 'contains(automats)': False, 'contains(rossi)': False, 'contains(festivities)': False, 'contains(lash)': False, 'contains(zzzzzzz)': False, 'contains(maxwell)': False, 'contains(readings)': False, 'contains(shoots)': False, 'contains(unabashedly)': False, 'contains(septic)': False, 'contains(riders)': False, 'contains(sooty)': False, 'contains(teck)': False, 'contains(disconnect)': False, 'contains(dubious)': False, 'contains(diminishing)': False, 'contains(dancefloor)': False, 'contains(adaptation)': False, 'contains(victor)': False, 'contains(oneness)': False, 'contains(plunges)': False, 'contains(healer)': False, 'contains(disdains)': False, 'contains(quiclky)': False, 'contains(anette)': False, 'contains(reiser)': False, 'contains(secular)': False, 'contains(fondled)': False, 'contains(911)': False, 'contains(jacki)': False, 'contains(leia)': False, 'contains(ogled)': False, 'contains(davidovitch)': False, 'contains(finklestein)': False, 'contains(undeterred)': False, 'contains(dwells)': False, 'contains(dentures)': False, 'contains(bringing)': False, 'contains(matchmakers)': False, 'contains(pleasures)': True, 'contains(freelance)': False, 'contains(slashfest)': False, 'contains(abbott)': False, 'contains(localized)': False, 'contains(liaisons)': False, 'contains(fit)': False, 'contains(trips)': False, 'contains(wreaked)': False, 'contains(next)': False, 'contains(theater)': False, 'contains(swigert)': False, 'contains(civilian)': False, 'contains(suppression)': False, 'contains(punts)': False, 'contains(charade)': False, 'contains(wordlessly)': False, 'contains(abuses)': False, 'contains(billboard)': False, 'contains(sextette)': False}\n"
     ]
    }
   ],
   "source": [
    "print document_features(movie_reviews.words('pos/cv957_8737.txt'))"
   ]
  },
  {
   "cell_type": "code",
   "execution_count": 83,
   "metadata": {
    "collapsed": true
   },
   "outputs": [],
   "source": [
    "featuresets = [(document_features(d), c) for (d,c) in documents]\n",
    "train_set, test_set = featuresets[100:], featuresets[:100]\n",
    "classifier = nltk.NaiveBayesClassifier.train(train_set)"
   ]
  },
  {
   "cell_type": "code",
   "execution_count": 84,
   "metadata": {
    "scrolled": true
   },
   "outputs": [
    {
     "name": "stdout",
     "output_type": "stream",
     "text": [
      "0.59\n"
     ]
    }
   ],
   "source": [
    "print nltk.classify.accuracy(classifier, test_set)"
   ]
  },
  {
   "cell_type": "code",
   "execution_count": 85,
   "metadata": {
    "scrolled": false
   },
   "outputs": [
    {
     "name": "stdout",
     "output_type": "stream",
     "text": [
      "Most Informative Features\n",
      "          contains(sans) = True              neg : pos    =      9.0 : 1.0\n",
      "    contains(mediocrity) = True              neg : pos    =      7.7 : 1.0\n",
      "   contains(bruckheimer) = True              neg : pos    =      6.3 : 1.0\n",
      "   contains(overwhelmed) = True              pos : neg    =      6.3 : 1.0\n",
      "     contains(uplifting) = True              pos : neg    =      5.8 : 1.0\n"
     ]
    }
   ],
   "source": [
    "classifier.show_most_informative_features(5)"
   ]
  },
  {
   "cell_type": "code",
   "execution_count": 80,
   "metadata": {
    "scrolled": true
   },
   "outputs": [
    {
     "name": "stdout",
     "output_type": "stream",
     "text": [
      "([u'if', u'you', u\"'\", u're', u'into', u'watching', u'near', u'on', u'two', u'hours', u'of', u'bored', u',', u'foul', u'-', u'mouthed', u'florida', u'teens', u'having', u'sex', u',', u'doing', u'drugs', u',', u'having', u'sex', u',', u'listening', u'to', u'eminem', u',', u'having', u'sex', u',', u'playing', u'video', u'games', u',', u'having', u'sex', u',', u'and', u'killing', u'one', u'of', u'their', u'peers', u',', u'then', u'\"', u'bully', u'\"', u\"'\", u's', u'for', u'you', u'.', u'based', u'on', u'jim', u'schutze', u\"'\", u's', u'novelization', u'of', u'a', u'true', u'-', u'life', u'event', u',', u'\"', u'bully', u'\"', u'charts', u'the', u'story', u'of', u'a', u'handful', u'of', u'disenchanted', u'teenagers', u'who', u',', u'in', u'1993', u',', u'murdered', u'their', u'high', u'school', u'bully', u'in', u'cold', u',', u'calculated', u'blood', u'.', u'the', u'film', u'could', u'have', u'provided', u'fascinating', u'insights', u'into', u'what', u'turned', u'these', u'aimless', u'kids', u'into', u'premeditated', u'killers', u'.', u'in', u'the', u'hands', u'of', u'controversial', u'director', u'larry', u'clark', u'(', u'\"', u'kids', u'\"', u')', u',', u'however', u',', u'it', u'has', u'less', u'to', u'say', u'about', u'its', u'subject', u'matter', u'and', u'more', u'to', u'say', u'about', u'the', u'filmmaker', u\"'\", u's', u'pornographic', u'proclivities', u'.', u'in', u'terms', u'of', u'the', u'incident', u'and', u'what', u'provoked', u'it', u',', u'\"', u'bully', u'\"', u'stirs', u'up', u'nothing', u'new', u'.', u'the', u'high', u'schoolers', u'are', u'presented', u'as', u'a', u'uniformly', u'screwed', u'up', u'lot', u'--', u'bored', u'with', u'life', u',', u'not', u'much', u'ambition', u',', u'promiscuous', u',', u'profane', u'.', u'the', u'bully', u'in', u'question', u',', u'bobby', u'kent', u'(', u'nick', u'stahl', u')', u',', u'is', u'certainly', u'an', u'unpleasant', u'piece', u'of', u'work', u'but', u'he', u'doesn', u\"'\", u't', u'exactly', u'tower', u'over', u'his', u'colleagues', u'in', u'the', u'pathological', u'department', u'.', u'he', u'hounds', u'and', u'harries', u'and', u'humiliates', u'his', u'\"', u'best', u'friend', u'\"', u'marty', u'(', u'played', u'by', u'brad', u'renfro', u')', u'and', u'marty', u\"'\", u's', u'girlfriend', u'lisa', u'(', u'rachel', u'miner', u')', u'doesn', u\"'\", u't', u'care', u'for', u'it', u'at', u'all', u'and', u'comes', u'up', u'with', u'the', u'idea', u'of', u'killing', u'bobby', u'.', u'simply', u'remove', u'him', u'from', u'the', u'equation', u'.', u'marty', u'and', u'lisa', u'and', u'a', u'handful', u'of', u'their', u'promiscuous', u',', u'profane', u',', u'and', u'stoner', u'friends', u',', u'plus', u'a', u'recruited', u'hit', u'man', u'(', u'?', u')', u',', u'lure', u'bobby', u'to', u'a', u'swamp', u'one', u'night', u',', u'stab', u'him', u',', u'beat', u'him', u'over', u'the', u'head', u'with', u'a', u'baseball', u'bat', u',', u'and', u'dump', u'him', u'into', u'the', u'canal', u'where', u'the', u'sand', u'crabs', u'and', u'the', u'gators', u',', u'presumably', u',', u'finish', u'him', u'off', u'.', u'there', u\"'\", u's', u'no', u'remorse', u'--', u'the', u'next', u'day', u'they', u\"'\", u're', u'talking', u'about', u'it', u'as', u'openly', u'as', u'a', u'homework', u'assignment', u'.', u'they', u'did', u'it', u'because', u'they', u'wanted', u'to', u',', u'and', u'because', u'they', u'could', u'.', u'what', u\"'\", u's', u'most', u'troubling', u'about', u'the', u'film', u',', u'however', u',', u'isn', u\"'\", u't', u'the', u'unsettling', u'subject', u'matter', u'and', u'the', u'matter', u'-', u'of', u'-', u'fact', u'way', u'these', u'young', u'people', u'go', u'about', u'eliminating', u'one', u'of', u'their', u'own', u'but', u'the', u'way', u'in', u'which', u'clark', u'is', u'constantly', u'distracted', u'by', u'his', u'own', u'material', u'.', u'not', u'only', u'is', u'the', u'nudity', u'plentiful', u'and', u'graphic', u'in', u'\"', u'bully', u'\"', u'but', u'there', u\"'\", u's', u'also', u'an', u'uneasy', u',', u'exploitative', u'feel', u'to', u'it', u'.', u'gratuitous', u'crotch', u'shots', u'abound', u'(', u'one', u'of', u'which', u'makes', u'the', u'zipper', u'cut', u'-', u'away', u'in', u'\"', u'there', u\"'\", u's', u'something', u'about', u'mary', u'\"', u'look', u'like', u'the', u'height', u'of', u'subtlety', u'!', u')', u'.', u'clark', u'is', u'so', u'pre', u'-', u'occupied', u'with', u'his', u'female', u'(', u'predominantly', u')', u'leads', u'that', u'you', u'forget', u',', u'at', u'times', u',', u'what', u'this', u'movie', u'is', u'supposed', u'to', u'be', u'about', u'.', u'the', u'stripping', u'bare', u',', u'literally', u'and', u'figuratively', u',', u'of', u'these', u'actors', u'(', u'who', u'are', u',', u'after', u'all', u',', u'playing', u'underage', u'teenagers', u')', u'becomes', u'harder', u'to', u'watch', u'over', u'time', u',', u'as', u'you', u'begin', u'to', u'feel', u'for', u'them', u'and', u'question', u'the', u'motives', u'of', u'the', u'man', u'behind', u'the', u'camera', u'.', u'the', u'conclusion', u'of', u'\"', u'bully', u'\"', u'offers', u'up', u'literal', u'snapshots', u'of', u'information', u'about', u'the', u'sentences', u'imposed', u'on', u'each', u'of', u'the', u'protagonists', u'for', u'their', u'involvement', u'in', u'the', u'crime', u'.', u'it', u\"'\", u's', u'a', u'short', u'sequence', u'of', u'stills', u'--', u'heather', u':', u'7', u'years', u';', u'ali', u':', u'40', u'years', u';', u'lisa', u':', u'life', u'imprisonment', u',', u'for', u'example', u'--', u'but', u'it', u\"'\", u's', u'infinitely', u'more', u'telling', u'than', u'the', u'110', u'minutes', u'of', u'rampant', u'unpleasantness', u'that', u'precedes', u'it', u'.', u'\"', u'bully', u'\"', u'aims', u'for', u'truth', u',', u'exploits', u'it', u'shamelessly', u',', u'then', u'bludgeons', u'it', u'to', u'death', u'.'], u'neg')\n"
     ]
    }
   ],
   "source": [
    "print documents[0]#可以看到最后是neg"
   ]
  },
  {
   "cell_type": "markdown",
   "metadata": {},
   "source": [
    "## 词性标注"
   ]
  },
  {
   "cell_type": "code",
   "execution_count": 89,
   "metadata": {},
   "outputs": [],
   "source": [
    "'''\n",
    "第5.中，我们建立了一个正则表达式标注器，通过查找词内部的组成，为词选择词性标记。\n",
    "然而，这个正则表达式标注器是手工制作的。作为替代，我们可以训练一个分类器来算出哪个后缀最有信息量。\n",
    "首先，让我们找出最常见的后缀：\n",
    "'''\n",
    "from nltk.corpus import brown\n",
    "suffix_fdist = nltk.FreqDist()\n",
    "for word in brown.words():\n",
    "    word = word.lower()\n",
    "    suffix_fdist[word[-1:]] += 1\n",
    "    suffix_fdist[word[-2:]] += 1\n",
    "    suffix_fdist[word[-3:]] += 1"
   ]
  },
  {
   "cell_type": "code",
   "execution_count": 90,
   "metadata": {
    "collapsed": true
   },
   "outputs": [],
   "source": [
    "common_suffixes = [suffix for (suffix, count) in suffix_fdist.most_common(100)]"
   ]
  },
  {
   "cell_type": "code",
   "execution_count": 91,
   "metadata": {
    "scrolled": false
   },
   "outputs": [
    {
     "name": "stdout",
     "output_type": "stream",
     "text": [
      "[u'e', u',', u'.', u's', u'd', u't', u'he', u'n', u'a', u'of', u'the', u'y', u'r', u'to', u'in', u'f', u'o', u'ed', u'nd', u'is', u'on', u'l', u'g', u'and', u'ng', u'er', u'as', u'ing', u'h', u'at', u'es', u'or', u're', u'it', u'``', u'an', u\"''\", u'm', u';', u'i', u'ly', u'ion', u'en', u'al', u'?', u'nt', u'be', u'hat', u'st', u'his', u'th', u'll', u'le', u'ce', u'by', u'ts', u'me', u've', u\"'\", u'se', u'ut', u'was', u'for', u'ent', u'ch', u'k', u'w', u'ld', u'`', u'rs', u'ted', u'ere', u'her', u'ne', u'ns', u'ith', u'ad', u'ry', u')', u'(', u'te', u'--', u'ay', u'ty', u'ot', u'p', u'nce', u\"'s\", u'ter', u'om', u'ss', u':', u'we', u'are', u'c', u'ers', u'uld', u'had', u'so', u'ey']\n"
     ]
    }
   ],
   "source": [
    "print common_suffixes"
   ]
  },
  {
   "cell_type": "code",
   "execution_count": 92,
   "metadata": {
    "collapsed": true
   },
   "outputs": [],
   "source": [
    "def pos_features(word):\n",
    "    features = {}\n",
    "    for suffix in common_suffixes:\n",
    "        features['endswith({})'.format(suffix)] = word.lower().endswith(suffix)\n",
    "    return features"
   ]
  },
  {
   "cell_type": "code",
   "execution_count": 93,
   "metadata": {
    "collapsed": true
   },
   "outputs": [],
   "source": [
    "'''\n",
    "特征提取函数的行为就像有色眼镜一样，强调我们的数据中的某些属性（颜色），并使其无法看到其他属性。\n",
    "分类器在决定如何标记输入时，将完全依赖它们强调的属性。\n",
    "在这种情况下，分类器将只基于一个给定的词拥有（如果有）哪个常见后缀的信息来做决定。\n",
    "现在，我们已经定义了我们的特征提取器，可以用它来训练一个新的“决策树”的分类器\n",
    "'''\n",
    "tagged_words = brown.tagged_words(categories='news')\n",
    "featuresets = [(pos_features(n), g) for (n,g) in tagged_words]"
   ]
  },
  {
   "cell_type": "code",
   "execution_count": 94,
   "metadata": {
    "collapsed": true
   },
   "outputs": [],
   "source": [
    "size = int(len(featuresets) * 0.1)\n",
    "train_set, test_set = featuresets[size:], featuresets[:size]"
   ]
  },
  {
   "cell_type": "code",
   "execution_count": 96,
   "metadata": {
    "scrolled": false
   },
   "outputs": [
    {
     "data": {
      "text/plain": [
       "0.6270512182993535"
      ]
     },
     "execution_count": 96,
     "metadata": {},
     "output_type": "execute_result"
    }
   ],
   "source": [
    "classifier = nltk.DecisionTreeClassifier.train(train_set)\n",
    "nltk.classify.accuracy(classifier, test_set)"
   ]
  },
  {
   "cell_type": "code",
   "execution_count": 97,
   "metadata": {},
   "outputs": [
    {
     "data": {
      "text/plain": [
       "u'NNS'"
      ]
     },
     "execution_count": 97,
     "metadata": {},
     "output_type": "execute_result"
    }
   ],
   "source": [
    "classifier.classify(pos_features('cats'))"
   ]
  },
  {
   "cell_type": "markdown",
   "metadata": {},
   "source": [
    "## 探索上下文语境\n",
    "为了采取基于词的上下文的特征，我们必须修改以前为我们的特征提取器定义的模式。\n",
    "\n",
    "不是只传递已标注的词，我们将传递整个（未标注的）句子，以及目标词的索引"
   ]
  },
  {
   "cell_type": "code",
   "execution_count": 98,
   "metadata": {
    "collapsed": true
   },
   "outputs": [],
   "source": [
    "def pos_features(sentence, i):\n",
    "    features = {\"suffix(1)\": sentence[i][-1:],\n",
    "                \"suffix(2)\": sentence[i][-2:],\n",
    "                \"suffix(3)\": sentence[i][-3:]}\n",
    "    if i == 0:\n",
    "        features[\"prev-word\"] = \"<START>\"\n",
    "    else:\n",
    "        features[\"prev-word\"] = sentence[i-1]\n",
    "    return features"
   ]
  },
  {
   "cell_type": "code",
   "execution_count": 99,
   "metadata": {},
   "outputs": [
    {
     "data": {
      "text/plain": [
       "{'prev-word': u'an',\n",
       " 'suffix(1)': u'n',\n",
       " 'suffix(2)': u'on',\n",
       " 'suffix(3)': u'ion'}"
      ]
     },
     "execution_count": 99,
     "metadata": {},
     "output_type": "execute_result"
    }
   ],
   "source": [
    "pos_features(brown.sents()[0], 8)"
   ]
  },
  {
   "cell_type": "code",
   "execution_count": 100,
   "metadata": {},
   "outputs": [
    {
     "data": {
      "text/plain": [
       "0.7891596220785678"
      ]
     },
     "execution_count": 100,
     "metadata": {},
     "output_type": "execute_result"
    }
   ],
   "source": [
    "'''\n",
    "enumerate:\n",
    ">>>seasons = ['Spring', 'Summer', 'Fall', 'Winter']\n",
    ">>> list(enumerate(seasons))\n",
    "[(0, 'Spring'), (1, 'Summer'), (2, 'Fall'), (3, 'Winter')]\n",
    "'''\n",
    "tagged_sents = brown.tagged_sents(categories='news')\n",
    "featuresets = []\n",
    "for tagged_sent in tagged_sents:\n",
    "\tuntagged_sent = nltk.tag.untag(tagged_sent)\n",
    "\tfor i, (word, tag) in enumerate(tagged_sent):\n",
    "\t\tfeaturesets.append((pos_features(untagged_sent, i), tag))\n",
    "size = int(len(featuresets) * 0.1)\n",
    "train_set, test_set = featuresets[size:], featuresets[:size]\n",
    "classifier = nltk.NaiveBayesClassifier.train(train_set)\n",
    "nltk.classify.accuracy(classifier, test_set)"
   ]
  },
  {
   "cell_type": "markdown",
   "metadata": {},
   "source": [
    "## 序列分类"
   ]
  },
  {
   "cell_type": "code",
   "execution_count": 101,
   "metadata": {
    "collapsed": true
   },
   "outputs": [],
   "source": [
    "#带有历史的特征提取器\n",
    "def pos_features(sentence, i, history):\n",
    "    features = {\"suffix(1)\": sentence[i][-1:],\n",
    "                 \"suffix(2)\": sentence[i][-2:],\n",
    "                 \"suffix(3)\": sentence[i][-3:]}\n",
    "    if i == 0:\n",
    "        features[\"prev-word\"] = \"<START>\"\n",
    "        features[\"prev-tag\"] = \"<START>\"\n",
    "    else:\n",
    "        features[\"prev-word\"] = sentence[i-1]\n",
    "        features[\"prev-tag\"] = history[i-1]\n",
    "    return features\n",
    "# history中的每个标记对应sentence中的一个词。但是请注意，history将只包含我们已经归类的词的标记，也就是目标词左侧的词。"
   ]
  },
  {
   "cell_type": "code",
   "execution_count": 102,
   "metadata": {
    "collapsed": true
   },
   "outputs": [],
   "source": [
    "class ConsecutivePosTagger(nltk.TaggerI): #这里定义新的选择器类，继承nltk.TaggerI\n",
    "    def __init__(self,train_sents):\n",
    "        train_set = []\n",
    "        for tagged_sent in train_sents:\n",
    "            untagged_set = nltk.tag.untag(tagged_sent) #去标签化\n",
    "            history = []\n",
    "            for i,(word,tag) in enumerate(tagged_sent):\n",
    "                featureset = pos_features(untagged_set,i,history)\n",
    "                history.append(tag) #将tag添加进去\n",
    "                train_set.append((featureset,tag)) #拿到了训练集\n",
    "            self.classifier = nltk.NaiveBayesClassifier.train(train_set) #创建训练模型\n",
    "\n",
    "    def tag(self,sentence): #必须定义tag方法\n",
    "        history = []\n",
    "        for i,word in enumerate(sentence):\n",
    "            featureset = pos_features(sentence,i,history)\n",
    "            tag = self.classifier.classify(featureset)\n",
    "            history.append(tag)\n",
    "        return zip(sentence,history)"
   ]
  },
  {
   "cell_type": "code",
   "execution_count": 103,
   "metadata": {
    "collapsed": true
   },
   "outputs": [],
   "source": [
    "tagged_sents = brown.tagged_sents(categories=\"news\")\n",
    "size = int(len(tagged_sents)*0.1)\n",
    "train_sents,test_sents = tagged_sents[size:],tagged_sents[:size]"
   ]
  },
  {
   "cell_type": "code",
   "execution_count": 105,
   "metadata": {
    "scrolled": true
   },
   "outputs": [
    {
     "name": "stdout",
     "output_type": "stream",
     "text": [
      "[(u'He', u'PPS'), (u'assured', u'VBD'), (u'Mr.', u'NP'), (u'Martinelli', u'NP'), (u'and', u'CC'), (u'the', u'AT'), (u'council', u'NN'), (u'that', u'CS'), (u'he', u'PPS'), (u'would', u'MD'), (u'study', u'VB'), (u'the', u'AT'), (u'correct', u'JJ'), (u'method', u'NN'), (u'and', u'CC'), (u'report', u'VB'), (u'back', u'RB'), (u'to', u'IN'), (u'the', u'AT'), (u'council', u'NN'), (u'as', u'QL'), (u'soon', u'RB'), (u'as', u'CS'), (u'possible', u'JJ'), (u'.', u'.')]\n"
     ]
    }
   ],
   "source": [
    "print(train_sents[0])"
   ]
  },
  {
   "cell_type": "code",
   "execution_count": 106,
   "metadata": {
    "collapsed": true
   },
   "outputs": [],
   "source": [
    "tagger = ConsecutivePosTagger(train_sents)"
   ]
  },
  {
   "cell_type": "code",
   "execution_count": 107,
   "metadata": {},
   "outputs": [
    {
     "name": "stdout",
     "output_type": "stream",
     "text": [
      "0.798052851182\n"
     ]
    }
   ],
   "source": [
    "print(tagger.evaluate(test_sents))"
   ]
  },
  {
   "cell_type": "markdown",
   "metadata": {},
   "source": [
    "## 其他序列分类方法\n",
    "\n",
    "### 1.brill标注器：\n",
    "\n",
    "如果我们决定将一个词标\n",
    "\n",
    "注为名词，但后来发现的证据表明应该是一个动词，就没有办法回去修复我们的错误。这个\n",
    "\n",
    "问题的一个解决方案是采取转型策略。转型联合分类的工作原理是为输入的标签创建一个初\n",
    "\n",
    "始值，然后反复提炼那个值，尝试修复相关输入之间的不一致\n",
    "\n",
    "### 2.隐马尔可夫模型：\n",
    "\n",
    "类似于连续分类器，它不光看输入也看已预测标记的历\n",
    "\n",
    "史。然而，不是简单地找出一个给定的词的单个最好的标签，而是为标记产生一个概率分布。\n",
    "\n",
    "然后将这些概率结合起来计算标记序列的概率得分，最高概率的标记序列会被选中\n",
    "\n",
    "这种模型的缺点就是计算量相当大，可以采用动态规划来解决这种问题。\n",
    "\n",
    "基于这种模型，产生了最大熵马尔可夫模型和线性链条件随机场模型，二者为可能序列打分的算法不同。"
   ]
  },
  {
   "cell_type": "markdown",
   "metadata": {},
   "source": [
    "##  句子分割\n",
    "\n",
    "句子分割可以看作是一个标点符号的分类任务：每当我们遇到一个可能会结束一个句子\n",
    "\n",
    "的符号，如句号或问号，我们必须决定它是否终止了当前句子。"
   ]
  },
  {
   "cell_type": "code",
   "execution_count": 108,
   "metadata": {},
   "outputs": [
    {
     "data": {
      "text/plain": [
       "0.936026936026936"
      ]
     },
     "execution_count": 108,
     "metadata": {},
     "output_type": "execute_result"
    }
   ],
   "source": [
    "sents = nltk.corpus.treebank_raw.sents()\n",
    "# 单独的句子标识符的合并链表\n",
    "tokens = []\n",
    "# 所有句子边界标识索引 如 . ? ! , :等\n",
    "boundaries = set()\n",
    "offset = 0\n",
    "for sent in sents:\n",
    "    tokens.extend(sent)\n",
    "    offset += len(sent)\n",
    "    boundaries.add(offset-1)\n",
    "    \n",
    "# 特征提取器:我们需要指定用于决定标点是否表示句子边界的数据特征\n",
    "def punct_features(tokens, i):\n",
    "\treturn {'next-word-capitalized': tokens[i+1][0].isupper(),\n",
    "            'prevword': tokens[i-1].lower(),\n",
    "            'punct': tokens[i],\n",
    "            'prev-word-is-one-char': len(tokens[i-1]) == 1}\n",
    "\n",
    "featuresets = [(punct_features(tokens, i), (i in boundaries))\n",
    "\t\t\t\tfor i in range(1, len(tokens)-1)\n",
    "\t\t\t\tif tokens[i] in '.?!']\n",
    "# 进行训练，检验模型准确率\n",
    "size = int(len(featuresets) * 0.1)\n",
    "train_set, test_set = featuresets[size:], featuresets[:size]\n",
    "classifier = nltk.NaiveBayesClassifier.train(train_set)\n",
    "nltk.classify.accuracy(classifier, test_set)"
   ]
  },
  {
   "cell_type": "markdown",
   "metadata": {},
   "source": [
    "## 识别对话行为类型"
   ]
  },
  {
   "cell_type": "code",
   "execution_count": 109,
   "metadata": {},
   "outputs": [
    {
     "data": {
      "text/plain": [
       "0.668"
      ]
     },
     "execution_count": 109,
     "metadata": {},
     "output_type": "execute_result"
    }
   ],
   "source": [
    "# 提取即时消息会话语料库\n",
    "posts = nltk.corpus.nps_chat.xml_posts()[:10000]\n",
    "# 特征提取器，每个帖子包含什么词\n",
    "def dialogue_act_features(post):\n",
    "    features = {}\n",
    "    for word in nltk.word_tokenize(post):\n",
    "    \tfeatures['contains(%s)' % word.lower()] = True\n",
    "    return features\n",
    "# 构建模型，判断是否为对话行为\n",
    "featuresets = [(dialogue_act_features(post.text), post.get('class')) for post in posts]\n",
    "size = int(len(featuresets) * 0.1)\n",
    "train_set, test_set = featuresets[size:], featuresets[:size]\n",
    "classifier = nltk.NaiveBayesClassifier.train(train_set)\n",
    "nltk.classify.accuracy(classifier, test_set)"
   ]
  },
  {
   "cell_type": "markdown",
   "metadata": {},
   "source": [
    "## 识别文字蕴含\n",
    "略\n"
   ]
  },
  {
   "cell_type": "markdown",
   "metadata": {},
   "source": [
    "## 测试集\n",
    "\n",
    "因为调用 random.shuffle()，测试集中包含来自训练使用过的相同的文档的句子。如果文档中有相容的模式（也\n",
    "\n",
    "就是说，如果一个给定的词与特定词性标记一起出现特别频繁），那么这种差异将体现在开\n",
    "\n",
    "发集和测试集。一个稍好的做法是确保训练集和测试集来自不同的文件"
   ]
  },
  {
   "cell_type": "markdown",
   "metadata": {},
   "source": [
    "## 准确度\n",
    "nltk.classify.accuracy()函数会在给定的测试集上计算分类器\n",
    "\n",
    "模型的准确度\n",
    ">classifier = nltk.NaiveBayesClassifier.train(train_set)\n",
    "\n",
    ">print 'Accuracy: %4.2f' % nltk.classify.accuracy(classifier, test_set)\n",
    "\n",
    ">0.75"
   ]
  },
  {
   "cell_type": "markdown",
   "metadata": {},
   "source": [
    "## 精确度和召回率\n",
    "\n",
    "准确度：测量测试集上分类器正确标注的输入的比例。\n",
    "\n",
    "精确度（Precision），表示我们发现的项目中有多少是相关的，TP/(TP+ FP)。\n",
    "\n",
    "召回率（Recall），表示相关的项目中我们发现了多少，TP/(TP+ FN)。\n",
    "\n",
    "F- 度量值（F-Measure）（或 F-得分，F-Score），组合精确度和召回率为一个单独的得分，被定义为精确度和召回率的调和平均数(2 × Precision × Recall)/(Precision+Recall)。"
   ]
  },
  {
   "cell_type": "markdown",
   "metadata": {},
   "source": [
    "## 混淆矩阵\n",
    "\n",
    "混淆矩阵：其中每个 cells[i,j]表示正确的标签 i 被预测为标签 j 的次数 。\n",
    "\n",
    "因此，对角线项目（即 cells[i,i]）表示正确预测的标签，非对角线项目表示错误。\n",
    "\n",
    "nltk中可以使用nltk.ConfusionMatrix函数"
   ]
  },
  {
   "cell_type": "markdown",
   "metadata": {},
   "source": [
    "## 交叉验证\n",
    "\n",
    "为了评估我们的模型，我们必须为测试集保留一部分已标注的数据。\n",
    "\n",
    "采用交叉验证的优势是，它可以让我们研究不同的训练集上性能变\n",
    "\n",
    "化有多大。如果我们从所有 N 个训练集得到非常相似的分数，然后我们可以相当有信心，\n",
    "\n",
    "得分是准确的。另一方面，如果 N 个训练集上分数很大不同，那么，我们应该对评估得分\n",
    "\n",
    "的准确性持怀疑态度"
   ]
  },
  {
   "cell_type": "markdown",
   "metadata": {},
   "source": [
    "## 零计数和平滑\n",
    "### 零计数：\n",
    "\n",
    "最简单的方法计算 P(f|label)，特征 f 对标签 label 的标签可能性的贡献，是取得具有给\n",
    "\n",
    "定特征和给定标签的训练实例的百分比：\n",
    "\n",
    " P(f|label) = count(f, label)/count(label)\n",
    "\n",
    "然而，当训练集中有特征从来没有和给定标签一起出现时，这种简单的方法会产生一个\n",
    "\n",
    "问题。在这种情况下，我们的 P(f|label)计算值将是 0，这将导致给定标签的标签可能性为 0\n",
    "\n",
    "### 平滑：\n",
    "\n",
    "因此，建立朴素贝叶斯模型时，我们通常采用更复杂\n",
    "\n",
    "的技术，被称为平滑技术，用于计算 P(f|label)，给定标签的特征的概率。例如：给定标签的\n",
    "\n",
    "一个特征的概率的期望似然估计基本上给每个 count(f,label)值加 0.5，Heldout Heldout Heldout Heldout 估计使用一个\n",
    "\n",
    "heldout 语料库计算特征频率与特征概率之间的关系。nltk.probability 模块提供了多种平\n",
    "\n",
    "滑技术的支持"
   ]
  },
  {
   "cell_type": "markdown",
   "metadata": {},
   "source": [
    "## 最大熵模型\n",
    "\n",
    "最大熵分类器：与朴素贝叶斯类似，使用搜索技术找出一组将最大限度地提高分类器性能的参数。避免使用广义\n",
    "迭代缩放（Generalized Iterative Scaling，GIS）或改进的迭代缩放（Improved Iterative Scaling，IIS），这两者都比共轭梯度（Conjugate Gradient，CG ）和 BFGS 优化方法慢很多\n",
    "\n",
    "联合特征：每个接收它自己的参数的标签和特征的组合。联合特征是有标签的的值的属性，而（简单）特征是未加标签的值的属性。\n",
    "\n",
    "一般情况下， 最大熵原理是说在与我们所知道的一致的的分布中，我们会选择熵最高（分布最均匀）的。\n",
    "\n",
    "对于每个联合特征，最大熵模型计算该特征的“经验频率”——即它出现在训练集中的频率。然后，它搜索熵最大的分布，同时也预测每个联合特征正确的频率。\n",
    "\n",
    "一般情况下，生成式模型确实比条件式模型强大。但是前者所需的参数会大于后者。"
   ]
  },
  {
   "cell_type": "markdown",
   "metadata": {},
   "source": [
    "## 结论\n",
    "    决策树可以自动地构建树结构的流程图，用于为输入变量值基于它们的特征加标签，虽\n",
    "    然它们易于解释，但不适合处理特性值在决定合适标签过程中相互影响的情况。\n",
    "\n",
    "    在朴素贝叶斯分类器中，每个特征决定应该使用哪个标签的贡献是独立的。它允许特征\n",
    "    值间有关联，但当两个或更多的特征高度相关时将会有问题。\n",
    "\n",
    "    最大熵分类器使用的基本模型与朴素贝叶斯相似；不过，它们使用了迭代优化来寻找使\n",
    "    训练集的概率最大化的特征权值集合。"
   ]
  }
 ],
 "metadata": {
  "kernelspec": {
   "display_name": "Python 2",
   "language": "python",
   "name": "python2"
  },
  "language_info": {
   "codemirror_mode": {
    "name": "ipython",
    "version": 2
   },
   "file_extension": ".py",
   "mimetype": "text/x-python",
   "name": "python",
   "nbconvert_exporter": "python",
   "pygments_lexer": "ipython2",
   "version": "2.7.13"
  }
 },
 "nbformat": 4,
 "nbformat_minor": 2
}
