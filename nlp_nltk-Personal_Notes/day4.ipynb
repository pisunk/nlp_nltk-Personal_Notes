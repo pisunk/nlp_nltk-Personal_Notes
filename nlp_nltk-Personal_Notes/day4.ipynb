{
 "cells": [
  {
   "cell_type": "code",
   "execution_count": 2,
   "metadata": {
    "collapsed": true
   },
   "outputs": [],
   "source": [
    "#上一节的退火算法\n",
    "\n",
    "# 根据标记，进行分割操作、可以是分句或者分词\n",
    "def segment(text, segs):\n",
    "    words= []\n",
    "    last = 0\n",
    "    for i in range(len(segs)):\n",
    "        if segs[i] =='1':\n",
    "            words.append(text[last:i+1])\n",
    "            last = i+1\n",
    "    words.append(text[last:])\n",
    "    return words"
   ]
  },
  {
   "cell_type": "code",
   "execution_count": 3,
   "metadata": {
    "collapsed": true
   },
   "outputs": [],
   "source": [
    "# 计算得分值\n",
    "def evaluate(text, segs):\n",
    "    words= segment(text, segs)\n",
    "    text_size = len(words)\n",
    "    lexicon_size = len(' '.join(list(set(words))))\n",
    "    return text_size + lexicon_size"
   ]
  },
  {
   "cell_type": "code",
   "execution_count": 4,
   "metadata": {
    "collapsed": true
   },
   "outputs": [],
   "source": [
    "from random import randint\n",
    "# 改变某一个标记串的某一位（1变成0，0变成1）\n",
    "def flip(segs, pos):\n",
    "    return segs[:pos] + str(1-int(segs[pos])) + segs[pos+1:]"
   ]
  },
  {
   "cell_type": "code",
   "execution_count": 5,
   "metadata": {
    "collapsed": true
   },
   "outputs": [],
   "source": [
    "# 根据整数N，随机改变N个位置，形成一个猜测的序列\n",
    "def flip_n(segs, n):\n",
    "    for i in range(n):\n",
    "        segs = flip(segs, randint(0,len(segs)-1))\n",
    "    return segs"
   ]
  },
  {
   "cell_type": "code",
   "execution_count": 9,
   "metadata": {
    "collapsed": true
   },
   "outputs": [],
   "source": [
    "# 模拟退火算法\n",
    "def anneal(text, segs, iterations, cooling_rate):\n",
    "    temperature = float(len(segs))\n",
    "    while temperature > 0.5:\n",
    "        best_segs,best = segs, evaluate(text, segs)\n",
    "        for i in range(iterations):\n",
    "            guess= flip_n(segs, int(round(temperature)))\n",
    "            score =evaluate(text, guess)\n",
    "            if score < best:#对比猜测的和目前的，那一种评价值比较小，选择那一种序列\n",
    "                best,best_segs = score, guess\n",
    "        score, segs = best,best_segs\n",
    "        temperature = temperature / cooling_rate\n",
    "        print evaluate(text, segs), segment(text, segs)\n",
    "    print\n",
    "    return segs"
   ]
  },
  {
   "cell_type": "code",
   "execution_count": 10,
   "metadata": {
    "collapsed": true
   },
   "outputs": [],
   "source": [
    "text = \"doyouseethekittyseethedoggydoyoulikethekittylikethedoggy\"\n",
    "seg1= \"0000000000000001000000000010000000000000000100000000000\""
   ]
  },
  {
   "cell_type": "code",
   "execution_count": 15,
   "metadata": {
    "scrolled": true
   },
   "outputs": [
    {
     "name": "stdout",
     "output_type": "stream",
     "text": [
      "63 ['doyouseethekitty', 'seethedoggy', 'doyoulikethekitty', 'likethedoggy']\n",
      "63 ['doyouseethekitty', 'seethedoggy', 'doyoulikethekitty', 'likethedoggy']\n",
      "63 ['doyouseethekitty', 'seethedoggy', 'doyoulikethekitty', 'likethedoggy']\n",
      "63 ['doyouseethekitty', 'seethedoggy', 'doyoulikethekitty', 'likethedoggy']\n",
      "63 ['doyouseethekitty', 'seethedoggy', 'doyoulikethekitty', 'likethedoggy']\n",
      "63 ['doyouseethekitty', 'seethedoggy', 'doyoulikethekitty', 'likethedoggy']\n",
      "62 ['doyous', 'eetheki', 'tty', 'see', 'thedoggy', 'doyo', 'uliketheki', 'tty', 'like', 'thedoggy']\n",
      "62 ['doyous', 'eetheki', 'tty', 'see', 'thedoggy', 'doyo', 'uliketheki', 'tty', 'like', 'thedoggy']\n",
      "62 ['doyous', 'eetheki', 'tty', 'see', 'thedoggy', 'doyo', 'uliketheki', 'tty', 'like', 'thedoggy']\n",
      "62 ['doyous', 'eetheki', 'tty', 'see', 'thedoggy', 'doyo', 'uliketheki', 'tty', 'like', 'thedoggy']\n",
      "59 ['doy', 'ous', 'eetheki', 'tty', 'see', 'thedoggy', 'doy', 'ou', 'like', 'theki', 'tty', 'like', 'thedoggy']\n",
      "59 ['doy', 'ous', 'eetheki', 'tty', 'see', 'thedoggy', 'doy', 'ou', 'like', 'theki', 'tty', 'like', 'thedoggy']\n",
      "53 ['doy', 'ousee', 'theki', 'tty', 'see', 'thedoggy', 'doy', 'ou', 'like', 'theki', 'tty', 'like', 'thedoggy']\n",
      "51 ['doy', 'ou', 'see', 'theki', 'tty', 'see', 'thedogg', 'y', 'doy', 'ou', 'like', 'theki', 'tty', 'like', 'thedogg', 'y']\n",
      "48 ['doy', 'ou', 'see', 'thekitty', 'see', 'thedogg', 'y', 'doy', 'ou', 'like', 'thekitty', 'like', 'thedogg', 'y']\n",
      "48 ['doy', 'ou', 'see', 'thekitty', 'see', 'thedogg', 'y', 'doy', 'ou', 'like', 'thekitty', 'like', 'thedogg', 'y']\n",
      "48 ['doy', 'ou', 'see', 'thekitty', 'see', 'thedogg', 'y', 'doy', 'ou', 'like', 'thekitty', 'like', 'thedogg', 'y']\n",
      "45 ['doy', 'ou', 'see', 'thekitty', 'see', 'thedoggy', 'doy', 'ou', 'like', 'thekitty', 'like', 'thedoggy']\n",
      "42 ['doyou', 'see', 'thekitty', 'see', 'thedoggy', 'doyou', 'like', 'thekitty', 'like', 'thedoggy']\n",
      "42 ['doyou', 'see', 'thekitty', 'see', 'thedoggy', 'doyou', 'like', 'thekitty', 'like', 'thedoggy']\n",
      "42 ['doyou', 'see', 'thekitty', 'see', 'thedoggy', 'doyou', 'like', 'thekitty', 'like', 'thedoggy']\n",
      "42 ['doyou', 'see', 'thekitty', 'see', 'thedoggy', 'doyou', 'like', 'thekitty', 'like', 'thedoggy']\n",
      "42 ['doyou', 'see', 'thekitty', 'see', 'thedoggy', 'doyou', 'like', 'thekitty', 'like', 'thedoggy']\n",
      "42 ['doyou', 'see', 'thekitty', 'see', 'thedoggy', 'doyou', 'like', 'thekitty', 'like', 'thedoggy']\n",
      "42 ['doyou', 'see', 'thekitty', 'see', 'thedoggy', 'doyou', 'like', 'thekitty', 'like', 'thedoggy']\n",
      "42 ['doyou', 'see', 'thekitty', 'see', 'thedoggy', 'doyou', 'like', 'thekitty', 'like', 'thedoggy']\n",
      "\n"
     ]
    },
    {
     "data": {
      "text/plain": [
       "'0000100100000001001000000010000100010000000100010000000'"
      ]
     },
     "execution_count": 15,
     "metadata": {},
     "output_type": "execute_result"
    }
   ],
   "source": [
    "anneal(text, seg1, 5000,1.2)"
   ]
  },
  {
   "cell_type": "code",
   "execution_count": 20,
   "metadata": {
    "collapsed": true
   },
   "outputs": [],
   "source": [
    "def permutations(seq):\n",
    "    if len(seq)<=1:\n",
    "            yield seq\n",
    "    else:\n",
    "        for perm in permutations(seq[1:]):\n",
    "            for i in range(len(perm)+1):\n",
    "                yield perm[:i] + seq[0:1] + perm[i:]"
   ]
  },
  {
   "cell_type": "code",
   "execution_count": 21,
   "metadata": {
    "scrolled": true
   },
   "outputs": [
    {
     "data": {
      "text/plain": [
       "[['police', 'fish', 'buffalo'],\n",
       " ['fish', 'police', 'buffalo'],\n",
       " ['fish', 'buffalo', 'police'],\n",
       " ['police', 'buffalo', 'fish'],\n",
       " ['buffalo', 'police', 'fish'],\n",
       " ['buffalo', 'fish', 'police']]"
      ]
     },
     "execution_count": 21,
     "metadata": {},
     "output_type": "execute_result"
    }
   ],
   "source": [
    "list(permutations(['police', 'fish', 'buffalo']))"
   ]
  },
  {
   "cell_type": "code",
   "execution_count": 2,
   "metadata": {},
   "outputs": [],
   "source": [
    "from pickle import load\n",
    "input = open('t3.pkl', 'rb')\n",
    "tagger = load(input)\n",
    "input.close()"
   ]
  },
  {
   "cell_type": "code",
   "execution_count": 3,
   "metadata": {
    "collapsed": true
   },
   "outputs": [],
   "source": [
    "text = \"\"\"The board's action shows what free enterprise is up against in our complex maze of regulatory laws .\"\"\""
   ]
  },
  {
   "cell_type": "code",
   "execution_count": 4,
   "metadata": {
    "collapsed": true
   },
   "outputs": [],
   "source": [
    "tokens = text.split()"
   ]
  },
  {
   "cell_type": "code",
   "execution_count": 5,
   "metadata": {},
   "outputs": [
    {
     "data": {
      "text/plain": [
       "[('The', u'AT'),\n",
       " (\"board's\", u'NN$'),\n",
       " ('action', 'NN'),\n",
       " ('shows', u'NNS'),\n",
       " ('what', u'WDT'),\n",
       " ('free', u'JJ'),\n",
       " ('enterprise', 'NN'),\n",
       " ('is', u'BEZ'),\n",
       " ('up', u'RP'),\n",
       " ('against', u'IN'),\n",
       " ('in', u'IN'),\n",
       " ('our', u'PP$'),\n",
       " ('complex', u'JJ'),\n",
       " ('maze', 'NN'),\n",
       " ('of', u'IN'),\n",
       " ('regulatory', 'NN'),\n",
       " ('laws', u'NNS'),\n",
       " ('.', u'.')]"
      ]
     },
     "execution_count": 5,
     "metadata": {},
     "output_type": "execute_result"
    }
   ],
   "source": [
    "tagger.tag(tokens)"
   ]
  }
 ],
 "metadata": {
  "kernelspec": {
   "display_name": "Python 2",
   "language": "python",
   "name": "python2"
  },
  "language_info": {
   "codemirror_mode": {
    "name": "ipython",
    "version": 2
   },
   "file_extension": ".py",
   "mimetype": "text/x-python",
   "name": "python",
   "nbconvert_exporter": "python",
   "pygments_lexer": "ipython2",
   "version": "2.7.13"
  }
 },
 "nbformat": 4,
 "nbformat_minor": 2
}
